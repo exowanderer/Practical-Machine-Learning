{
 "cells": [
  {
   "cell_type": "markdown",
   "metadata": {},
   "source": [
    "Neural Networks with Sentdex - Processing your own data: Create Sentiment Feature Sets\n",
    "---\n",
    "We are going to use 'our own data set' which SentDex has store at \n",
    "\n",
    "https://pythonprogramming.net/static/downloads/machine-learning-data/pos.txt\n",
    "\n",
    "and\n",
    "\n",
    "https://pythonprogramming.net/static/downloads/machine-learning-data/neg.txt\n",
    "\n",
    "Each file is a list of 5000+ strings with different string lengths\n",
    "- We need to convert to numerical values to be processes like a dictionary format\n",
    "- DNNs (at the level) need to all be the same size\n",
    "    - there are DNNs that can process data of variable length and size\n",
    "    - such as sequence-to-sequence stuck -- don't have to be the same length\n",
    "    - and/or use bucketing and such\n",
    "\n",
    "We are going to use these libraries to generate a Lexicon -- or set of words that 'you' know\n",
    "- We are going to use the 'bag of words' model, where each word has an ID (here index)\n",
    "- Then we will incorporate this \"not necessarilly `one hot`; but you can call it `hot` array or something\""
   ]
  },
  {
   "cell_type": "markdown",
   "metadata": {},
   "source": [
    "Simple Example of a Lexicon\n",
    "---\n",
    "\n",
    "Imagine that we only have 4 words in our lexicon -- [chair, table, spoon, television]\n",
    "- then we have a new sentence \"I pulled the chair up to the table\"\n",
    "- that is now going to have to be converted by the index that each element shows up in the lexicon:\n",
    "\n",
    "start with: value = [0 0 0 0]\n",
    "\n",
    "loop over the sentence and ask \n",
    "1. \"Does `I` exist in the table?\" - No\n",
    "2. \"Does `pulled` exist in the table?\" - No\n",
    "3. \"Does `the` exist in the table?\" - No\n",
    "4. \"Does `Chair` exist in the table?\" - Yes  --> value = [1 0 0 0]\n",
    "5. \"Does `up` exist in the table?\" - No\n",
    "6. \"Does `to` exist in the table?\" - No\n",
    "7. \"Does `the` exist in the table?\" - No\n",
    "8. \"Does `table` exist in the table?\" - Yes --> value = [1 1 0 0]\n",
    "\n",
    "Convert this to a vector in the bag of words model, then `value = [1 1 0 0]` will become the vector for this sentence above."
   ]
  },
  {
   "cell_type": "code",
   "execution_count": null,
   "metadata": {
    "collapsed": true
   },
   "outputs": [],
   "source": [
    "import nltk\n",
    "nltk.download()"
   ]
  },
  {
   "cell_type": "code",
   "execution_count": null,
   "metadata": {
    "collapsed": true
   },
   "outputs": [],
   "source": [
    "import nltk\n",
    "from nltk.tokenize import word_tokenize"
   ]
  }
 ],
 "metadata": {
  "kernelspec": {
   "display_name": "Python 3",
   "language": "python",
   "name": "python3"
  },
  "language_info": {
   "codemirror_mode": {
    "name": "ipython",
    "version": 3
   },
   "file_extension": ".py",
   "mimetype": "text/x-python",
   "name": "python",
   "nbconvert_exporter": "python",
   "pygments_lexer": "ipython3",
   "version": "3.5.1"
  }
 },
 "nbformat": 4,
 "nbformat_minor": 0
}

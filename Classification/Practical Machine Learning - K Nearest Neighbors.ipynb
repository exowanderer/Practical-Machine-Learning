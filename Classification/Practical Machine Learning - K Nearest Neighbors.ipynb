{
 "cells": [
  {
   "cell_type": "markdown",
   "metadata": {},
   "source": [
    "Classification with K Nearest Neighbors\n",
    "---\n",
    "\n",
    "KNN-C determines the euclidean distance for any (unlabled) test point from the set of (labeled) training points.\n",
    "\n",
    "It must recalculate the distances for every single new input (tricks involve setting a maximum radius or using tree code)\n",
    "\n",
    "- KNN is not considered fast or robust\n",
    "- but, it is simple to implement and control\n",
    "\n",
    "---\n",
    "- Should be larger than number of dimensions to avoid a total split amongst all of the groups\n",
    "- Should be odd to avoid having an even split between any 2 groups\n",
    "- Suggestion: good idea to have K > n_odd + 2 or n_even + 1, whre n_odd / n_even = number of groups\n",
    "\n",
    "---\n",
    "- Confidence = number of neighbors per test point that is \"nearest\" of the k-tests\n",
    " - for a given test point -- and k = 3 -- if 2 of the nearest neighbors are in group 1, but the third is in group 2, then there is 66% confidence in that test point's labeling\n",
    "\n",
    "---\n",
    "With KNN, there is not really a training and testing because KNN is constantly remapping the entire dataset\n",
    "\n",
    "This is why SVM classification scales MUCH better with larger datasets (size > 1 GB)\n",
    "\n",
    "---\n",
    "#  Attribute                     Domain\n",
    "-- -----------------------------------------\n",
    "1. Sample code number            id number\n",
    "2. Clump Thickness               1 - 10\n",
    "3. Uniformity of Cell Size       1 - 10\n",
    "4. Uniformity of Cell Shape      1 - 10\n",
    "5. Marginal Adhesion             1 - 10\n",
    "6. Single Epithelial Cell Size   1 - 10\n",
    "7. Bare Nuclei                   1 - 10\n",
    "8. Bland Chromatin               1 - 10\n",
    "9. Normal Nucleoli               1 - 10\n",
    "10. Mitoses                       1 - 10\n",
    "11. Class:                        (2 for benign, 4 for malignant)\n"
   ]
  },
  {
   "cell_type": "markdown",
   "metadata": {},
   "source": [
    "Load Necessary Libraries\n",
    "--"
   ]
  },
  {
   "cell_type": "code",
   "execution_count": 200,
   "metadata": {
    "collapsed": true
   },
   "outputs": [],
   "source": [
    "# from sklearn import datasets\n",
    "from sklearn import preprocessing, cross_validation, neighbors\n",
    "from sklearn.externals import joblib\n",
    "\n",
    "import pandas as pd\n",
    "import numpy  as np\n",
    "\n",
    "import cPickle as pickle\n",
    "import random\n",
    "\n",
    "import warnings"
   ]
  },
  {
   "cell_type": "code",
   "execution_count": null,
   "metadata": {
    "collapsed": true
   },
   "outputs": [],
   "source": [
    "warnings."
   ]
  },
  {
   "cell_type": "markdown",
   "metadata": {},
   "source": [
    "Load Iris Data Set\n",
    "---\n",
    "Because we started this on an airplane, I am using the iris data set not, but will switch to the breast cancer data set when I am able to download it"
   ]
  },
  {
   "cell_type": "code",
   "execution_count": 8,
   "metadata": {
    "collapsed": true
   },
   "outputs": [],
   "source": [
    "# iris = datasets.load_iris()"
   ]
  },
  {
   "cell_type": "markdown",
   "metadata": {},
   "source": [
    "Load Breast Cancer Data Set\n",
    "---\n",
    "Because we started this on an airplane, I am using the iris data set not, but will switch to the breast cancer data set when I am able to download it"
   ]
  },
  {
   "cell_type": "code",
   "execution_count": 9,
   "metadata": {
    "collapsed": false
   },
   "outputs": [],
   "source": [
    "# USE WHEN YOU HAVE WIFI\n",
    "filename    = 'breast-cancer-wisconsin.data'\n",
    "df = pd.read_csv(filename)"
   ]
  },
  {
   "cell_type": "markdown",
   "metadata": {},
   "source": [
    "Allocate iris data set into a DataFrame"
   ]
  },
  {
   "cell_type": "code",
   "execution_count": 10,
   "metadata": {
    "collapsed": true
   },
   "outputs": [],
   "source": [
    "# df = pd.DataFrame([X,y])"
   ]
  },
  {
   "cell_type": "markdown",
   "metadata": {},
   "source": [
    "Identify missing data with '?' and replace it \"inplace\" with `-99999`\n",
    "\n",
    "A lot of real world data sets have a lot of missing data and you don't want to drop that entire data row, only the subset of the row that is 'missing'\n",
    "\n",
    "Making all '?' (missing data) into -99999 turns that one data point into a strong outlier\n",
    "\n",
    "For KNN, we might want to turn '?' into 0 instead\n",
    "\n",
    "We could also use `df.dropna(inplace=True)`, which would delete that row.  Because the BCW data set only has 16 '?', and several hundred rows, we might be okay with just deleting those rows -- testing this would be useful"
   ]
  },
  {
   "cell_type": "code",
   "execution_count": 11,
   "metadata": {
    "collapsed": false
   },
   "outputs": [],
   "source": [
    "df.replace('?',-99999, inplace=True)"
   ]
  },
  {
   "cell_type": "markdown",
   "metadata": {},
   "source": [
    "It's important to identify useless data.  Columns such as \"ID\" may cause havok on some algorithms. Some algorithms can account for outliers well, but KNN is especially bad at it and will be thrown off my the \"ID\" column"
   ]
  },
  {
   "cell_type": "code",
   "execution_count": 12,
   "metadata": {
    "collapsed": false
   },
   "outputs": [],
   "source": [
    "# # USE WHEN YOU HAVE WIFI\n",
    "useless = [\"ID\"]\n",
    "df.drop(useless, 1, inplace=True)"
   ]
  },
  {
   "cell_type": "markdown",
   "metadata": {},
   "source": [
    "Identify the features (not 'class') and the targets ('class')\n",
    "--"
   ]
  },
  {
   "cell_type": "code",
   "execution_count": 13,
   "metadata": {
    "collapsed": false
   },
   "outputs": [],
   "source": [
    "target  = ['class']\n",
    "X   = np.array(df.drop(target,1))\n",
    "y   = np.array(df[target])"
   ]
  },
  {
   "cell_type": "markdown",
   "metadata": {},
   "source": [
    "Train - Test Splitting with Ratio = 20%\n",
    "--"
   ]
  },
  {
   "cell_type": "code",
   "execution_count": 14,
   "metadata": {
    "collapsed": false
   },
   "outputs": [],
   "source": [
    "splitRatio    = 0.20\n",
    "random_state  = 42\n",
    "X_train, X_test, y_train, y_test    = cross_validation.train_test_split(X, y, test_size=splitRatio, random_state=random_state)"
   ]
  },
  {
   "cell_type": "markdown",
   "metadata": {},
   "source": [
    "Train - Test - Validate Splitting with Ratio = 20%, 20%\n",
    "--"
   ]
  },
  {
   "cell_type": "code",
   "execution_count": 15,
   "metadata": {
    "collapsed": false
   },
   "outputs": [],
   "source": [
    "# X_trainTest, X_validate, y_trainTest, y_validate    = cross_validation.train_test_split(X, y, test_size=splitRatio, random_state=42)\n",
    "# X_train, X_test, y_train, y_test    = cross_validation.train_test_split(X_trainTest, y_trainTest, test_size=splitRatio, random_state=random_state)"
   ]
  },
  {
   "cell_type": "markdown",
   "metadata": {},
   "source": [
    "Define Classifier: KNN\n",
    "--"
   ]
  },
  {
   "cell_type": "code",
   "execution_count": 16,
   "metadata": {
    "collapsed": true
   },
   "outputs": [],
   "source": [
    "clf = neighbors.KNeighborsClassifier()"
   ]
  },
  {
   "cell_type": "markdown",
   "metadata": {},
   "source": [
    "Fit the Classifier with the Train data\n",
    "--"
   ]
  },
  {
   "cell_type": "code",
   "execution_count": 18,
   "metadata": {
    "collapsed": false
   },
   "outputs": [
    {
     "name": "stderr",
     "output_type": "stream",
     "text": [
      "/Users/jonathanfraine/anaconda/lib/python2.7/site-packages/ipykernel/__main__.py:1: DataConversionWarning: A column-vector y was passed when a 1d array was expected. Please change the shape of y to (n_samples, ), for example using ravel().\n",
      "  if __name__ == '__main__':\n"
     ]
    },
    {
     "data": {
      "text/plain": [
       "KNeighborsClassifier(algorithm='auto', leaf_size=30, metric='minkowski',\n",
       "           metric_params=None, n_jobs=1, n_neighbors=5, p=2,\n",
       "           weights='uniform')"
      ]
     },
     "execution_count": 18,
     "metadata": {},
     "output_type": "execute_result"
    }
   ],
   "source": [
    "clf.fit(X_train, y_train)"
   ]
  },
  {
   "cell_type": "markdown",
   "metadata": {},
   "source": [
    "Predict from the Test data and Check accuracy\n",
    "--"
   ]
  },
  {
   "cell_type": "code",
   "execution_count": 19,
   "metadata": {
    "collapsed": false
   },
   "outputs": [
    {
     "name": "stdout",
     "output_type": "stream",
     "text": [
      "Accuracy = 98.57%\n"
     ]
    }
   ],
   "source": [
    "predict = clf.predict(X_test)\n",
    "accuracy= clf.score(X_test, y_test)\n",
    "\n",
    "print \"Accuracy = {0:.2f}%\".format(accuracy*100)"
   ]
  },
  {
   "cell_type": "markdown",
   "metadata": {},
   "source": [
    "A 98.57% accurate prediction is HUGE! Still 1.5% error is noticeble, but for a ML first pass 98.57% is AMAZING!!"
   ]
  },
  {
   "cell_type": "markdown",
   "metadata": {},
   "source": [
    "Check if adding ID really messes with the results\n",
    "--"
   ]
  },
  {
   "cell_type": "code",
   "execution_count": 20,
   "metadata": {
    "collapsed": false
   },
   "outputs": [
    {
     "name": "stdout",
     "output_type": "stream",
     "text": [
      "Accuracy = 60.71%\n"
     ]
    },
    {
     "name": "stderr",
     "output_type": "stream",
     "text": [
      "/Users/jonathanfraine/anaconda/lib/python2.7/site-packages/ipykernel/__main__.py:12: DataConversionWarning: A column-vector y was passed when a 1d array was expected. Please change the shape of y to (n_samples, ), for example using ravel().\n"
     ]
    }
   ],
   "source": [
    "# USE WHEN YOU HAVE WIFI\n",
    "filename    = 'breast-cancer-wisconsin.data'\n",
    "df = pd.read_csv(filename)\n",
    "df.replace('?',-99999, inplace=True)\n",
    "X   = np.array(df.drop(target,1))\n",
    "y   = np.array(df[target])\n",
    "splitRatio    = 0.20\n",
    "random_state  = 42\n",
    "X_train, X_test, y_train, y_test    = cross_validation.train_test_split(X, y, test_size=splitRatio, random_state=random_state)\n",
    "\n",
    "clf = neighbors.KNeighborsClassifier()\n",
    "clf.fit(X_train, y_train)\n",
    "print \"Accuracy = {0:.2f}%\".format(clf.score(X_test, y_test)*100)"
   ]
  },
  {
   "cell_type": "markdown",
   "metadata": {},
   "source": [
    "THIS IS A HUGE DIFFERENCE!: With \"ID\" included, our predictions go from 98.57% (AMAZING) to 60.71% (WTF??)"
   ]
  },
  {
   "cell_type": "markdown",
   "metadata": {},
   "source": [
    "Now back to our regularly scheduled program!"
   ]
  },
  {
   "cell_type": "code",
   "execution_count": 21,
   "metadata": {
    "collapsed": false
   },
   "outputs": [
    {
     "name": "stdout",
     "output_type": "stream",
     "text": [
      "Accuracy = 98.57%\n"
     ]
    },
    {
     "name": "stderr",
     "output_type": "stream",
     "text": [
      "/Users/jonathanfraine/anaconda/lib/python2.7/site-packages/ipykernel/__main__.py:17: DataConversionWarning: A column-vector y was passed when a 1d array was expected. Please change the shape of y to (n_samples, ), for example using ravel().\n"
     ]
    }
   ],
   "source": [
    "filename    = 'breast-cancer-wisconsin.data'\n",
    "df = pd.read_csv(filename)\n",
    "df.replace('?',-99999, inplace=True)\n",
    "\n",
    "useless = [\"ID\"]\n",
    "df.drop(useless, 1, inplace=True)\n",
    "\n",
    "X   = np.array(df.drop(target,1))\n",
    "y   = np.array(df[target])\n",
    "\n",
    "splitRatio    = 0.20\n",
    "random_state  = 42\n",
    "\n",
    "X_train, X_test, y_train, y_test    = cross_validation.train_test_split(X, y, test_size=splitRatio, random_state=random_state)\n",
    "\n",
    "clf = neighbors.KNeighborsClassifier()\n",
    "clf.fit(X_train, y_train)\n",
    "print \"Accuracy = {0:.2f}%\".format(clf.score(X_test, y_test)*100)"
   ]
  },
  {
   "cell_type": "markdown",
   "metadata": {},
   "source": [
    "Save this classifier to a pickle\n",
    "---"
   ]
  },
  {
   "cell_type": "code",
   "execution_count": 22,
   "metadata": {
    "collapsed": false
   },
   "outputs": [
    {
     "data": {
      "text/plain": [
       "['knn.classification.pickle',\n",
       " 'knn.classification.pickle_01.npy',\n",
       " 'knn.classification.pickle_02.npy',\n",
       " 'knn.classification.pickle_03.npy',\n",
       " 'knn.classification.pickle_04.npy',\n",
       " 'knn.classification.pickle_05.npy',\n",
       " 'knn.classification.pickle_06.npy',\n",
       " 'knn.classification.pickle_07.npy',\n",
       " 'knn.classification.pickle_08.npy',\n",
       " 'knn.classification.pickle_09.npy']"
      ]
     },
     "execution_count": 22,
     "metadata": {},
     "output_type": "execute_result"
    }
   ],
   "source": [
    "# with open('knn.classification.pickle', 'wb') as f_out:\n",
    "#     pickle.dump(clf, f_out)\n",
    "#     f_out.close()\n",
    "# \n",
    "# with open('linearRegression.pickle', 'rb') as f_in:\n",
    "#     clf_pickle = pickle.load(f_in)\n",
    "joblib.dump(clf, 'knn.classification.pickle')"
   ]
  },
  {
   "cell_type": "markdown",
   "metadata": {},
   "source": [
    "Make a prediction"
   ]
  },
  {
   "cell_type": "code",
   "execution_count": 23,
   "metadata": {
    "collapsed": false
   },
   "outputs": [
    {
     "name": "stdout",
     "output_type": "stream",
     "text": [
      "One prediction:  [2]\n",
      "Two predictions: [2 2]\n"
     ]
    }
   ],
   "source": [
    "example_measures = np.array([4,2,1,1,1,2,3,2,1])\n",
    "example_measures = example_measures.reshape(1,-1) # Reshape to match shape of X_train\n",
    "\n",
    "prediction = clf.predict(example_measures)\n",
    "\n",
    "print \"One prediction: \", prediction\n",
    "\n",
    "example_measures = np.array([[4,2,1,1,1,2,3,2,1],[4,2,1,2,2,2,3,2,1]])\n",
    "example_measures = example_measures.reshape(len(example_measures),-1) # Reshape to match shape of X_train\n",
    "\n",
    "prediction = clf.predict(example_measures)\n",
    "\n",
    "print \"Two predictions:\", prediction"
   ]
  },
  {
   "cell_type": "markdown",
   "metadata": {},
   "source": [
    "# NOW We will write our own KNN algorithm!\n",
    "\n",
    "\n",
    "## Definition of Euclidean Distance\n",
    "\n",
    "$$ ED = \\sqrt{\\sum\\limits_{i=1}^n \\left(q_i - p_i\\right)^2}$$\n",
    "\n",
    "Example: q = (1,3) and p = (2,5): $ED = \\sqrt{(1-2)^2 + (3-5)^2}) = \\sqrt{1^2 + 2^2} = \\sqrt{5}$"
   ]
  },
  {
   "cell_type": "code",
   "execution_count": 24,
   "metadata": {
    "collapsed": false
   },
   "outputs": [
    {
     "name": "stdout",
     "output_type": "stream",
     "text": [
      "2.2360679775 5.0\n"
     ]
    }
   ],
   "source": [
    "from math import sqrt\n",
    "p1 = (1,3)\n",
    "p2 = (2,5)\n",
    "\n",
    "ED = sqrt((p1[0] - p2[0])**2 + (p1[1] - p2[1])**2)\n",
    "print ED, ED**2"
   ]
  },
  {
   "cell_type": "markdown",
   "metadata": {},
   "source": [
    "Load some more libraries\n",
    "---"
   ]
  },
  {
   "cell_type": "code",
   "execution_count": 25,
   "metadata": {
    "collapsed": true
   },
   "outputs": [],
   "source": [
    "%matplotlib inline\n",
    "import warnings\n",
    "from matplotlib import pyplot as plt, style\n",
    "from collections import Counter\n",
    "\n",
    "style.use('fivethirtyeight')"
   ]
  },
  {
   "cell_type": "code",
   "execution_count": 38,
   "metadata": {
    "collapsed": false
   },
   "outputs": [
    {
     "data": {
      "text/plain": [
       "<matplotlib.collections.PathCollection at 0x113a73790>"
      ]
     },
     "execution_count": 38,
     "metadata": {},
     "output_type": "execute_result"
    },
    {
     "data": {
      "image/png": "[encoded data removed]",
      "text/plain": [
       "<matplotlib.figure.Figure at 0x1135a1290>"
      ]
     },
     "metadata": {},
     "output_type": "display_data"
    }
   ],
   "source": [
    "dataset          = {}\n",
    "dataset['k']     = [[1,2],[2,3],[3,1]]\n",
    "dataset['r']     = [[6,5],[7,7],[8,6]]\n",
    "\n",
    "new_features     = [5,7]\n",
    "\n",
    "# for i in dataset:\n",
    "#     for ii in dataset[i]:\n",
    "#         plt.scatter(ii[0], ii[1], s=100, c=i)\n",
    "\n",
    "[[plt.scatter(ii[0], ii[1], s=100, c=i) for ii in dataset[i]] for i in dataset];\n",
    "plt.scatter(new_features[0], new_features[1], s=200)"
   ]
  },
  {
   "cell_type": "markdown",
   "metadata": {},
   "source": [
    "KNN requires us to compute the Euclidean distance between the test point and *EVERY* other point in the data set"
   ]
  },
  {
   "cell_type": "code",
   "execution_count": 85,
   "metadata": {
    "collapsed": true
   },
   "outputs": [],
   "source": [
    "def k_nearest_neighbors(data, predict, k=3):\n",
    "    if len(data) >= k:\n",
    "        warnings.warn('K is set to a value less than total voting groups!')\n",
    "    \n",
    "    distances   = []\n",
    "    for group in data:\n",
    "        for features in data[group]:\n",
    "            # euclidean_distance  = sqrt((features[0] - predict[0])**2. + (features[1] - predict[1])**2.)\n",
    "            # euclidean_distance  = np.sqrt(np.sum((np.array(features) - np.array(predict))**2.))\n",
    "            euclidean_distance  = np.linalg.norm(np.array(features) - np.array(predict))\n",
    "            distances.append([euclidean_distance, group])\n",
    "    \n",
    "    votes       = [i[1] for i in sorted(distances)[:k]]\n",
    "    \n",
    "    # Counter gives a list of a tuple, so [0] gives you the most common list in the tuple, \n",
    "    #   then [0] gives you the most common element in that list\n",
    "    vote_result = Counter(votes).most_common(1)[0][0]\n",
    "#     print Counter(votes).most_common(1)\n",
    "    \n",
    "    return vote_result"
   ]
  },
  {
   "cell_type": "code",
   "execution_count": 40,
   "metadata": {
    "collapsed": false
   },
   "outputs": [
    {
     "name": "stdout",
     "output_type": "stream",
     "text": [
      "[('k', 2)]\n",
      "k\n"
     ]
    }
   ],
   "source": [
    "result = k_nearest_neighbors(dataset, new_features, k=3)\n",
    "print result"
   ]
  },
  {
   "cell_type": "code",
   "execution_count": 58,
   "metadata": {
    "collapsed": false
   },
   "outputs": [
    {
     "name": "stdout",
     "output_type": "stream",
     "text": [
      "[('r', 3)]\n"
     ]
    },
    {
     "data": {
      "text/plain": [
       "<matplotlib.collections.PathCollection at 0x119a1d490>"
      ]
     },
     "execution_count": 58,
     "metadata": {},
     "output_type": "execute_result"
    },
    {
     "data": {
      "image/png": "[encoded data removed]",
      "text/plain": [
       "<matplotlib.figure.Figure at 0x119976dd0>"
      ]
     },
     "metadata": {},
     "output_type": "display_data"
    }
   ],
   "source": [
    "dataset          = {}\n",
    "dataset['k']     = [[1,2],[2,3],[3,1]]\n",
    "dataset['r']     = [[6,5],[7,7],[8,6]]\n",
    "\n",
    "new_features     = np.random.uniform(0,9,2)\n",
    "\n",
    "result = k_nearest_neighbors(dataset, new_features, k=3)\n",
    "\n",
    "[[plt.scatter(ii[0], ii[1], s=100, c=i) for ii in dataset[i]] for i in dataset];\n",
    "plt.scatter(new_features[0], new_features[1], s=200, color=result)"
   ]
  },
  {
   "cell_type": "markdown",
   "metadata": {},
   "source": [
    "Compare our KNN Classifier accuracy to the SKLearn KNN Classifier\n",
    "--"
   ]
  },
  {
   "cell_type": "code",
   "execution_count": 72,
   "metadata": {
    "collapsed": false
   },
   "outputs": [
    {
     "name": "stdout",
     "output_type": "stream",
     "text": [
      "[[5.0, 1.0, 1.0, 1.0, 2.0, 1.0, 3.0, 1.0, 1.0, 2.0], [5.0, 4.0, 4.0, 5.0, 7.0, 10.0, 3.0, 2.0, 1.0, 2.0], [3.0, 1.0, 1.0, 1.0, 2.0, 2.0, 3.0, 1.0, 1.0, 2.0], [6.0, 8.0, 8.0, 1.0, 3.0, 4.0, 3.0, 7.0, 1.0, 2.0], [4.0, 1.0, 1.0, 3.0, 2.0, 1.0, 3.0, 1.0, 1.0, 2.0]]\n",
      "####################################################################################################\n",
      "[[9.0, 8.0, 8.0, 5.0, 6.0, 2.0, 4.0, 10.0, 4.0, 4.0], [3.0, 1.0, 1.0, 1.0, 2.0, 1.0, 2.0, 1.0, 1.0, 2.0], [4.0, 2.0, 2.0, 1.0, 2.0, 1.0, 2.0, 1.0, 1.0, 2.0], [1.0, 1.0, 1.0, 1.0, 2.0, 1.0, 1.0, 1.0, 1.0, 2.0], [8.0, 10.0, 10.0, 8.0, 6.0, 9.0, 3.0, 10.0, 10.0, 4.0]]\n"
     ]
    }
   ],
   "source": [
    "df = pd.read_csv('breast-cancer-wisconsin.data')\n",
    "df.replace('?', -99999, inplace=True) # clean up missing data point\n",
    "\n",
    "useless = [\"ID\"]\n",
    "df.drop(useless, 1, inplace=True)\n",
    "\n",
    "# convert data to a float to avoid DataFrame mismatching elements (may be redundant)\n",
    "# probably because the specific column had a '?' string in it originally\n",
    "full_data = df.astype(float).values.tolist()\n",
    "\n",
    "# moves data around so that \"I\" don't know the setup\n",
    "random.shuffle(full_data)"
   ]
  },
  {
   "cell_type": "markdown",
   "metadata": {},
   "source": [
    "Segment Data set in Training and Test data sets"
   ]
  },
  {
   "cell_type": "code",
   "execution_count": 171,
   "metadata": {
    "collapsed": true
   },
   "outputs": [],
   "source": [
    "test_size = 0.2\n",
    "train_set = {2:[], 4:[]}\n",
    "test_set  = {2:[], 4:[]}\n",
    "\n",
    "train_data= full_data[:-int(test_size*len(full_data))]\n",
    "test_data = full_data[-int(test_size*len(full_data)):]"
   ]
  },
  {
   "cell_type": "markdown",
   "metadata": {},
   "source": [
    "Populate the dictionaries"
   ]
  },
  {
   "cell_type": "code",
   "execution_count": 172,
   "metadata": {
    "collapsed": false
   },
   "outputs": [],
   "source": [
    "# train_set = [i[-1].append(i[:-1]) for i in train_data]\n",
    "for i in train_data:\n",
    "    train_set[i[-1]].append(i[:-1])\n",
    "\n",
    "for i in test_data:\n",
    "    test_set[i[-1]].append(i[:-1])"
   ]
  },
  {
   "cell_type": "markdown",
   "metadata": {},
   "source": [
    "Pass this information to OUR k_nearest_neighbors"
   ]
  },
  {
   "cell_type": "code",
   "execution_count": 173,
   "metadata": {
    "collapsed": false
   },
   "outputs": [],
   "source": [
    "correct = 0\n",
    "total   = 0\n",
    "\n",
    "for group in test_set:\n",
    "    for data in test_set[group]:\n",
    "        vote = k_nearest_neighbors(train_set, data,k=5) # k = 5 is default for sklearn KNN\n",
    "        if group == vote:\n",
    "            correct = correct + 1.0\n",
    "        total = total + 1.0"
   ]
  },
  {
   "cell_type": "markdown",
   "metadata": {},
   "source": [
    "Determine OUR accuracy"
   ]
  },
  {
   "cell_type": "code",
   "execution_count": 174,
   "metadata": {
    "collapsed": false
   },
   "outputs": [
    {
     "name": "stdout",
     "output_type": "stream",
     "text": [
      "Accuracy = 97.12\n"
     ]
    }
   ],
   "source": [
    "print 'Accuracy = {0:.2f}'.format(correct / total * 100)"
   ]
  },
  {
   "cell_type": "markdown",
   "metadata": {},
   "source": [
    "Compare to SKLearn KNN-Classifer"
   ]
  },
  {
   "cell_type": "code",
   "execution_count": 176,
   "metadata": {
    "collapsed": false
   },
   "outputs": [
    {
     "name": "stdout",
     "output_type": "stream",
     "text": [
      "K=5   Accuracy = 98.57%\n",
      "K=10  Accuracy = 97.86%\n",
      "K=20  Accuracy = 97.14%\n",
      "K=50  Accuracy = 95.71%\n",
      "K=100 Accuracy = 95.71%\n"
     ]
    },
    {
     "name": "stderr",
     "output_type": "stream",
     "text": [
      "/Users/jonathanfraine/anaconda/lib/python2.7/site-packages/ipykernel/__main__.py:17: DataConversionWarning: A column-vector y was passed when a 1d array was expected. Please change the shape of y to (n_samples, ), for example using ravel().\n",
      "/Users/jonathanfraine/anaconda/lib/python2.7/site-packages/ipykernel/__main__.py:20: DataConversionWarning: A column-vector y was passed when a 1d array was expected. Please change the shape of y to (n_samples, ), for example using ravel().\n",
      "/Users/jonathanfraine/anaconda/lib/python2.7/site-packages/ipykernel/__main__.py:23: DataConversionWarning: A column-vector y was passed when a 1d array was expected. Please change the shape of y to (n_samples, ), for example using ravel().\n",
      "/Users/jonathanfraine/anaconda/lib/python2.7/site-packages/ipykernel/__main__.py:26: DataConversionWarning: A column-vector y was passed when a 1d array was expected. Please change the shape of y to (n_samples, ), for example using ravel().\n",
      "/Users/jonathanfraine/anaconda/lib/python2.7/site-packages/ipykernel/__main__.py:29: DataConversionWarning: A column-vector y was passed when a 1d array was expected. Please change the shape of y to (n_samples, ), for example using ravel().\n"
     ]
    }
   ],
   "source": [
    "filename    = 'breast-cancer-wisconsin.data'\n",
    "df = pd.read_csv(filename)\n",
    "df.replace('?',-99999, inplace=True)\n",
    "\n",
    "useless = [\"ID\"]\n",
    "df.drop(useless, 1, inplace=True)\n",
    "\n",
    "X   = np.array(df.drop(target,1))\n",
    "y   = np.array(df[target])\n",
    "\n",
    "splitRatio    = 0.20\n",
    "random_state  = 42\n",
    "\n",
    "X_train, X_test, y_train, y_test    = cross_validation.train_test_split(X, y, test_size=splitRatio, random_state=random_state)\n",
    "\n",
    "clf = neighbors.KNeighborsClassifier(n_neighbors=5)\n",
    "clf.fit(X_train, y_train)\n",
    "print \"K=5   Accuracy = {0:.2f}%\".format(clf.score(X_test, y_test)*100) \n",
    "clf = neighbors.KNeighborsClassifier(n_neighbors=10)\n",
    "clf.fit(X_train, y_train)\n",
    "print \"K=10  Accuracy = {0:.2f}%\".format(clf.score(X_test, y_test)*100)\n",
    "clf = neighbors.KNeighborsClassifier(n_neighbors=20)\n",
    "clf.fit(X_train, y_train)\n",
    "print \"K=20  Accuracy = {0:.2f}%\".format(clf.score(X_test, y_test)*100)\n",
    "clf = neighbors.KNeighborsClassifier(n_neighbors=50)\n",
    "clf.fit(X_train, y_train)\n",
    "print \"K=50  Accuracy = {0:.2f}%\".format(clf.score(X_test, y_test)*100)\n",
    "clf = neighbors.KNeighborsClassifier(n_neighbors=100)\n",
    "clf.fit(X_train, y_train)\n",
    "print \"K=100 Accuracy = {0:.2f}%\".format(clf.score(X_test, y_test)*100)"
   ]
  },
  {
   "cell_type": "markdown",
   "metadata": {},
   "source": [
    "Adding to K does not necessarily benefit you -- it depends on the size of each class"
   ]
  },
  {
   "cell_type": "markdown",
   "metadata": {},
   "source": [
    "Add Confidence to Output of Our Personal KNN Classifier\n",
    "--"
   ]
  },
  {
   "cell_type": "code",
   "execution_count": 177,
   "metadata": {
    "collapsed": true
   },
   "outputs": [],
   "source": [
    "def k_nearest_neighbors_withConfidence(data, predict, k=3):\n",
    "    if len(data) >= k:\n",
    "        warnings.warn('K is set to a value less than total voting groups!')\n",
    "    \n",
    "    distances   = []\n",
    "    for group in data:\n",
    "        for features in data[group]:\n",
    "            # euclidean_distance  = sqrt((features[0] - predict[0])**2. + (features[1] - predict[1])**2.)\n",
    "            # euclidean_distance  = np.sqrt(np.sum((np.array(features) - np.array(predict))**2.))\n",
    "            euclidean_distance  = np.linalg.norm(np.array(features) - np.array(predict))\n",
    "            distances.append([euclidean_distance, group])\n",
    "    \n",
    "    votes       = [i[1] for i in sorted(distances)[:k]]\n",
    "    \n",
    "    # Counter gives a list of a tuple, so [0] gives you the most common list in the tuple, \n",
    "    #   then [0] gives you the most common element in that list\n",
    "    vote_result = Counter(votes).most_common(1)[0][0]\n",
    "#     print Counter(votes).most_common(1)\n",
    "    confidence  = Counter(votes).most_common(1)[0][1] / float(k) # hoping that confidence is 1.0\n",
    "#     print vote_result, confidence\n",
    "    return vote_result, confidence"
   ]
  },
  {
   "cell_type": "code",
   "execution_count": 182,
   "metadata": {
    "collapsed": false
   },
   "outputs": [
    {
     "name": "stdout",
     "output_type": "stream",
     "text": [
      "2 4 1.0\n",
      "2 4 0.8\n",
      "2 4 1.0\n",
      "2 4 0.8\n",
      "4 2 1.0\n",
      "4 2 0.8\n",
      "4 2 1.0\n",
      "4 2 0.8\n",
      "Accuracy = 97.13\n"
     ]
    }
   ],
   "source": [
    "correct = 0\n",
    "total   = 0\n",
    "\n",
    "for group in test_set:\n",
    "    for data in test_set[group]:\n",
    "        vote, confidence = k_nearest_neighbors_withConfidence(train_set, data,k=5) # k = 5 is default for sklearn KNN\n",
    "        if group == vote:\n",
    "            correct = correct + 1.0\n",
    "        else:\n",
    "            print group, vote, confidence\n",
    "        total = total + 1.0\n",
    "\n",
    "print 'Accuracy = {0:.2f}'.format(correct / total * 100)"
   ]
  },
  {
   "cell_type": "markdown",
   "metadata": {},
   "source": [
    "Look over the above routines\n",
    "--"
   ]
  },
  {
   "cell_type": "code",
   "execution_count": 191,
   "metadata": {
    "collapsed": false
   },
   "outputs": [
    {
     "name": "stdout",
     "output_type": "stream",
     "text": [
      "0 Accuracy      = 98.92\n",
      "1 Accuracy      = 96.77\n",
      "2 Accuracy      = 97.85\n",
      "3 Accuracy      = 96.06\n",
      "4 Accuracy      = 94.98\n",
      "5 Accuracy      = 97.85\n",
      "6 Accuracy      = 96.06\n",
      "7 Accuracy      = 96.42\n",
      "8 Accuracy      = 96.06\n",
      "9 Accuracy      = 96.06\n",
      "10 Accuracy      = 98.21\n",
      "11 Accuracy      = 95.34\n",
      "12 Accuracy      = 96.77\n",
      "13 Accuracy      = 95.34\n",
      "14 Accuracy      = 96.06\n",
      "15 Accuracy      = 97.85\n",
      "16 Accuracy      = 94.62\n",
      "17 Accuracy      = 96.77\n",
      "18 Accuracy      = 96.42\n",
      "19 Accuracy      = 97.49\n",
      "20 Accuracy      = 96.77\n",
      "21 Accuracy      = 96.77\n",
      "22 Accuracy      = 97.13\n",
      "23 Accuracy      = 96.06\n",
      "24 Accuracy      = 96.06\n",
      "Mean Accuracy = 96.59\n"
     ]
    }
   ],
   "source": [
    "accuracies = []\n",
    "\n",
    "nIters  = 25\n",
    "for ii in range(nIters):\n",
    "    df = pd.read_csv('breast-cancer-wisconsin.data')\n",
    "    df.replace('?', -99999, inplace=True)\n",
    "    df.drop(useless, 1, inplace=True)\n",
    "    \n",
    "    full_data   = df.astype(float).values.tolist()\n",
    "    random.shuffle(full_data) # does so in place\n",
    "    \n",
    "    test_size   = 0.4\n",
    "    train_set   = {2:[], 4:[]}\n",
    "    test_set    = {2:[], 4:[]}\n",
    "    \n",
    "    train_data  = full_data[:-int(test_size*len(full_data))]\n",
    "    test_data   = full_data[-int(test_size*len(full_data)):]\n",
    "    \n",
    "    for i in train_data:\n",
    "        train_set[i[-1]].append(i[:-1])\n",
    "    \n",
    "    for i in test_data:\n",
    "        test_set[i[-1]].append(i[:-1])\n",
    "    \n",
    "    correct = 0\n",
    "    total   = 0\n",
    "\n",
    "    for group in test_set:\n",
    "        for data in test_set[group]:\n",
    "            vote, confidence = k_nearest_neighbors_withConfidence(train_set, data, k=5) # k = 5 is default for sklearn KNN\n",
    "            if group == vote:\n",
    "                correct = correct + 1.0\n",
    "            total = total + 1.0\n",
    "    \n",
    "    print '{0:d} Accuracy      = {1:.2f}'.format(ii, correct / total * 100)\n",
    "    accuracies.append(correct / total * 100)\n",
    "\n",
    "print 'Mean Accuracy = {0:.2f}'.format(sum(accuracies) / float(len(accuracies)))"
   ]
  },
  {
   "cell_type": "markdown",
   "metadata": {},
   "source": [
    "Iterate over SKLearn KNN Classifier\n",
    "--"
   ]
  },
  {
   "cell_type": "code",
   "execution_count": 205,
   "metadata": {
    "collapsed": false
   },
   "outputs": [
    {
     "name": "stderr",
     "output_type": "stream",
     "text": [
      "/Users/jonathanfraine/anaconda/lib/python2.7/site-packages/ipykernel/__main__.py:19: DataConversionWarning: A column-vector y was passed when a 1d array was expected. Please change the shape of y to (n_samples, ), for example using ravel().\n",
      "/Users/jonathanfraine/anaconda/lib/python2.7/site-packages/ipykernel/__main__.py:19: DataConversionWarning: A column-vector y was passed when a 1d array was expected. Please change the shape of y to (n_samples, ), for example using ravel().\n",
      "/Users/jonathanfraine/anaconda/lib/python2.7/site-packages/ipykernel/__main__.py:19: DataConversionWarning: A column-vector y was passed when a 1d array was expected. Please change the shape of y to (n_samples, ), for example using ravel().\n",
      "/Users/jonathanfraine/anaconda/lib/python2.7/site-packages/ipykernel/__main__.py:19: DataConversionWarning: A column-vector y was passed when a 1d array was expected. Please change the shape of y to (n_samples, ), for example using ravel().\n",
      "/Users/jonathanfraine/anaconda/lib/python2.7/site-packages/ipykernel/__main__.py:19: DataConversionWarning: A column-vector y was passed when a 1d array was expected. Please change the shape of y to (n_samples, ), for example using ravel().\n",
      "/Users/jonathanfraine/anaconda/lib/python2.7/site-packages/ipykernel/__main__.py:19: DataConversionWarning: A column-vector y was passed when a 1d array was expected. Please change the shape of y to (n_samples, ), for example using ravel().\n",
      "/Users/jonathanfraine/anaconda/lib/python2.7/site-packages/ipykernel/__main__.py:19: DataConversionWarning: A column-vector y was passed when a 1d array was expected. Please change the shape of y to (n_samples, ), for example using ravel().\n",
      "/Users/jonathanfraine/anaconda/lib/python2.7/site-packages/ipykernel/__main__.py:19: DataConversionWarning: A column-vector y was passed when a 1d array was expected. Please change the shape of y to (n_samples, ), for example using ravel().\n",
      "/Users/jonathanfraine/anaconda/lib/python2.7/site-packages/ipykernel/__main__.py:19: DataConversionWarning: A column-vector y was passed when a 1d array was expected. Please change the shape of y to (n_samples, ), for example using ravel().\n",
      "/Users/jonathanfraine/anaconda/lib/python2.7/site-packages/ipykernel/__main__.py:19: DataConversionWarning: A column-vector y was passed when a 1d array was expected. Please change the shape of y to (n_samples, ), for example using ravel().\n",
      "/Users/jonathanfraine/anaconda/lib/python2.7/site-packages/ipykernel/__main__.py:19: DataConversionWarning: A column-vector y was passed when a 1d array was expected. Please change the shape of y to (n_samples, ), for example using ravel().\n",
      "/Users/jonathanfraine/anaconda/lib/python2.7/site-packages/ipykernel/__main__.py:19: DataConversionWarning: A column-vector y was passed when a 1d array was expected. Please change the shape of y to (n_samples, ), for example using ravel().\n",
      "/Users/jonathanfraine/anaconda/lib/python2.7/site-packages/ipykernel/__main__.py:19: DataConversionWarning: A column-vector y was passed when a 1d array was expected. Please change the shape of y to (n_samples, ), for example using ravel().\n",
      "/Users/jonathanfraine/anaconda/lib/python2.7/site-packages/ipykernel/__main__.py:19: DataConversionWarning: A column-vector y was passed when a 1d array was expected. Please change the shape of y to (n_samples, ), for example using ravel().\n",
      "/Users/jonathanfraine/anaconda/lib/python2.7/site-packages/ipykernel/__main__.py:19: DataConversionWarning: A column-vector y was passed when a 1d array was expected. Please change the shape of y to (n_samples, ), for example using ravel().\n",
      "/Users/jonathanfraine/anaconda/lib/python2.7/site-packages/ipykernel/__main__.py:19: DataConversionWarning: A column-vector y was passed when a 1d array was expected. Please change the shape of y to (n_samples, ), for example using ravel().\n",
      "/Users/jonathanfraine/anaconda/lib/python2.7/site-packages/ipykernel/__main__.py:19: DataConversionWarning: A column-vector y was passed when a 1d array was expected. Please change the shape of y to (n_samples, ), for example using ravel().\n",
      "/Users/jonathanfraine/anaconda/lib/python2.7/site-packages/ipykernel/__main__.py:19: DataConversionWarning: A column-vector y was passed when a 1d array was expected. Please change the shape of y to (n_samples, ), for example using ravel().\n",
      "/Users/jonathanfraine/anaconda/lib/python2.7/site-packages/ipykernel/__main__.py:19: DataConversionWarning: A column-vector y was passed when a 1d array was expected. Please change the shape of y to (n_samples, ), for example using ravel().\n",
      "/Users/jonathanfraine/anaconda/lib/python2.7/site-packages/ipykernel/__main__.py:19: DataConversionWarning: A column-vector y was passed when a 1d array was expected. Please change the shape of y to (n_samples, ), for example using ravel().\n",
      "/Users/jonathanfraine/anaconda/lib/python2.7/site-packages/ipykernel/__main__.py:19: DataConversionWarning: A column-vector y was passed when a 1d array was expected. Please change the shape of y to (n_samples, ), for example using ravel().\n",
      "/Users/jonathanfraine/anaconda/lib/python2.7/site-packages/ipykernel/__main__.py:19: DataConversionWarning: A column-vector y was passed when a 1d array was expected. Please change the shape of y to (n_samples, ), for example using ravel().\n",
      "/Users/jonathanfraine/anaconda/lib/python2.7/site-packages/ipykernel/__main__.py:19: DataConversionWarning: A column-vector y was passed when a 1d array was expected. Please change the shape of y to (n_samples, ), for example using ravel().\n",
      "/Users/jonathanfraine/anaconda/lib/python2.7/site-packages/ipykernel/__main__.py:19: DataConversionWarning: A column-vector y was passed when a 1d array was expected. Please change the shape of y to (n_samples, ), for example using ravel().\n",
      "/Users/jonathanfraine/anaconda/lib/python2.7/site-packages/ipykernel/__main__.py:19: DataConversionWarning: A column-vector y was passed when a 1d array was expected. Please change the shape of y to (n_samples, ), for example using ravel().\n",
      "/Users/jonathanfraine/anaconda/lib/python2.7/site-packages/ipykernel/__main__.py:19: DataConversionWarning: A column-vector y was passed when a 1d array was expected. Please change the shape of y to (n_samples, ), for example using ravel().\n",
      "/Users/jonathanfraine/anaconda/lib/python2.7/site-packages/ipykernel/__main__.py:19: DataConversionWarning: A column-vector y was passed when a 1d array was expected. Please change the shape of y to (n_samples, ), for example using ravel().\n",
      "/Users/jonathanfraine/anaconda/lib/python2.7/site-packages/ipykernel/__main__.py:19: DataConversionWarning: A column-vector y was passed when a 1d array was expected. Please change the shape of y to (n_samples, ), for example using ravel().\n",
      "/Users/jonathanfraine/anaconda/lib/python2.7/site-packages/ipykernel/__main__.py:19: DataConversionWarning: A column-vector y was passed when a 1d array was expected. Please change the shape of y to (n_samples, ), for example using ravel().\n",
      "/Users/jonathanfraine/anaconda/lib/python2.7/site-packages/ipykernel/__main__.py:19: DataConversionWarning: A column-vector y was passed when a 1d array was expected. Please change the shape of y to (n_samples, ), for example using ravel().\n",
      "/Users/jonathanfraine/anaconda/lib/python2.7/site-packages/ipykernel/__main__.py:19: DataConversionWarning: A column-vector y was passed when a 1d array was expected. Please change the shape of y to (n_samples, ), for example using ravel().\n",
      "/Users/jonathanfraine/anaconda/lib/python2.7/site-packages/ipykernel/__main__.py:19: DataConversionWarning: A column-vector y was passed when a 1d array was expected. Please change the shape of y to (n_samples, ), for example using ravel().\n",
      "/Users/jonathanfraine/anaconda/lib/python2.7/site-packages/ipykernel/__main__.py:19: DataConversionWarning: A column-vector y was passed when a 1d array was expected. Please change the shape of y to (n_samples, ), for example using ravel().\n",
      "/Users/jonathanfraine/anaconda/lib/python2.7/site-packages/ipykernel/__main__.py:19: DataConversionWarning: A column-vector y was passed when a 1d array was expected. Please change the shape of y to (n_samples, ), for example using ravel().\n",
      "/Users/jonathanfraine/anaconda/lib/python2.7/site-packages/ipykernel/__main__.py:19: DataConversionWarning: A column-vector y was passed when a 1d array was expected. Please change the shape of y to (n_samples, ), for example using ravel().\n",
      "/Users/jonathanfraine/anaconda/lib/python2.7/site-packages/ipykernel/__main__.py:19: DataConversionWarning: A column-vector y was passed when a 1d array was expected. Please change the shape of y to (n_samples, ), for example using ravel().\n",
      "/Users/jonathanfraine/anaconda/lib/python2.7/site-packages/ipykernel/__main__.py:19: DataConversionWarning: A column-vector y was passed when a 1d array was expected. Please change the shape of y to (n_samples, ), for example using ravel().\n",
      "/Users/jonathanfraine/anaconda/lib/python2.7/site-packages/ipykernel/__main__.py:19: DataConversionWarning: A column-vector y was passed when a 1d array was expected. Please change the shape of y to (n_samples, ), for example using ravel().\n",
      "/Users/jonathanfraine/anaconda/lib/python2.7/site-packages/ipykernel/__main__.py:19: DataConversionWarning: A column-vector y was passed when a 1d array was expected. Please change the shape of y to (n_samples, ), for example using ravel().\n",
      "/Users/jonathanfraine/anaconda/lib/python2.7/site-packages/ipykernel/__main__.py:19: DataConversionWarning: A column-vector y was passed when a 1d array was expected. Please change the shape of y to (n_samples, ), for example using ravel().\n",
      "/Users/jonathanfraine/anaconda/lib/python2.7/site-packages/ipykernel/__main__.py:19: DataConversionWarning: A column-vector y was passed when a 1d array was expected. Please change the shape of y to (n_samples, ), for example using ravel().\n",
      "/Users/jonathanfraine/anaconda/lib/python2.7/site-packages/ipykernel/__main__.py:19: DataConversionWarning: A column-vector y was passed when a 1d array was expected. Please change the shape of y to (n_samples, ), for example using ravel().\n",
      "/Users/jonathanfraine/anaconda/lib/python2.7/site-packages/ipykernel/__main__.py:19: DataConversionWarning: A column-vector y was passed when a 1d array was expected. Please change the shape of y to (n_samples, ), for example using ravel().\n",
      "/Users/jonathanfraine/anaconda/lib/python2.7/site-packages/ipykernel/__main__.py:19: DataConversionWarning: A column-vector y was passed when a 1d array was expected. Please change the shape of y to (n_samples, ), for example using ravel().\n",
      "/Users/jonathanfraine/anaconda/lib/python2.7/site-packages/ipykernel/__main__.py:19: DataConversionWarning: A column-vector y was passed when a 1d array was expected. Please change the shape of y to (n_samples, ), for example using ravel().\n",
      "/Users/jonathanfraine/anaconda/lib/python2.7/site-packages/ipykernel/__main__.py:19: DataConversionWarning: A column-vector y was passed when a 1d array was expected. Please change the shape of y to (n_samples, ), for example using ravel().\n",
      "/Users/jonathanfraine/anaconda/lib/python2.7/site-packages/ipykernel/__main__.py:19: DataConversionWarning: A column-vector y was passed when a 1d array was expected. Please change the shape of y to (n_samples, ), for example using ravel().\n",
      "/Users/jonathanfraine/anaconda/lib/python2.7/site-packages/ipykernel/__main__.py:19: DataConversionWarning: A column-vector y was passed when a 1d array was expected. Please change the shape of y to (n_samples, ), for example using ravel().\n",
      "/Users/jonathanfraine/anaconda/lib/python2.7/site-packages/ipykernel/__main__.py:19: DataConversionWarning: A column-vector y was passed when a 1d array was expected. Please change the shape of y to (n_samples, ), for example using ravel().\n",
      "/Users/jonathanfraine/anaconda/lib/python2.7/site-packages/ipykernel/__main__.py:19: DataConversionWarning: A column-vector y was passed when a 1d array was expected. Please change the shape of y to (n_samples, ), for example using ravel().\n",
      "/Users/jonathanfraine/anaconda/lib/python2.7/site-packages/ipykernel/__main__.py:19: DataConversionWarning: A column-vector y was passed when a 1d array was expected. Please change the shape of y to (n_samples, ), for example using ravel().\n",
      "/Users/jonathanfraine/anaconda/lib/python2.7/site-packages/ipykernel/__main__.py:19: DataConversionWarning: A column-vector y was passed when a 1d array was expected. Please change the shape of y to (n_samples, ), for example using ravel().\n",
      "/Users/jonathanfraine/anaconda/lib/python2.7/site-packages/ipykernel/__main__.py:19: DataConversionWarning: A column-vector y was passed when a 1d array was expected. Please change the shape of y to (n_samples, ), for example using ravel().\n",
      "/Users/jonathanfraine/anaconda/lib/python2.7/site-packages/ipykernel/__main__.py:19: DataConversionWarning: A column-vector y was passed when a 1d array was expected. Please change the shape of y to (n_samples, ), for example using ravel().\n",
      "/Users/jonathanfraine/anaconda/lib/python2.7/site-packages/ipykernel/__main__.py:19: DataConversionWarning: A column-vector y was passed when a 1d array was expected. Please change the shape of y to (n_samples, ), for example using ravel().\n",
      "/Users/jonathanfraine/anaconda/lib/python2.7/site-packages/ipykernel/__main__.py:19: DataConversionWarning: A column-vector y was passed when a 1d array was expected. Please change the shape of y to (n_samples, ), for example using ravel().\n",
      "/Users/jonathanfraine/anaconda/lib/python2.7/site-packages/ipykernel/__main__.py:19: DataConversionWarning: A column-vector y was passed when a 1d array was expected. Please change the shape of y to (n_samples, ), for example using ravel().\n",
      "/Users/jonathanfraine/anaconda/lib/python2.7/site-packages/ipykernel/__main__.py:19: DataConversionWarning: A column-vector y was passed when a 1d array was expected. Please change the shape of y to (n_samples, ), for example using ravel().\n",
      "/Users/jonathanfraine/anaconda/lib/python2.7/site-packages/ipykernel/__main__.py:19: DataConversionWarning: A column-vector y was passed when a 1d array was expected. Please change the shape of y to (n_samples, ), for example using ravel().\n",
      "/Users/jonathanfraine/anaconda/lib/python2.7/site-packages/ipykernel/__main__.py:19: DataConversionWarning: A column-vector y was passed when a 1d array was expected. Please change the shape of y to (n_samples, ), for example using ravel().\n",
      "/Users/jonathanfraine/anaconda/lib/python2.7/site-packages/ipykernel/__main__.py:19: DataConversionWarning: A column-vector y was passed when a 1d array was expected. Please change the shape of y to (n_samples, ), for example using ravel().\n",
      "/Users/jonathanfraine/anaconda/lib/python2.7/site-packages/ipykernel/__main__.py:19: DataConversionWarning: A column-vector y was passed when a 1d array was expected. Please change the shape of y to (n_samples, ), for example using ravel().\n",
      "/Users/jonathanfraine/anaconda/lib/python2.7/site-packages/ipykernel/__main__.py:19: DataConversionWarning: A column-vector y was passed when a 1d array was expected. Please change the shape of y to (n_samples, ), for example using ravel().\n",
      "/Users/jonathanfraine/anaconda/lib/python2.7/site-packages/ipykernel/__main__.py:19: DataConversionWarning: A column-vector y was passed when a 1d array was expected. Please change the shape of y to (n_samples, ), for example using ravel().\n",
      "/Users/jonathanfraine/anaconda/lib/python2.7/site-packages/ipykernel/__main__.py:19: DataConversionWarning: A column-vector y was passed when a 1d array was expected. Please change the shape of y to (n_samples, ), for example using ravel().\n",
      "/Users/jonathanfraine/anaconda/lib/python2.7/site-packages/ipykernel/__main__.py:19: DataConversionWarning: A column-vector y was passed when a 1d array was expected. Please change the shape of y to (n_samples, ), for example using ravel().\n",
      "/Users/jonathanfraine/anaconda/lib/python2.7/site-packages/ipykernel/__main__.py:19: DataConversionWarning: A column-vector y was passed when a 1d array was expected. Please change the shape of y to (n_samples, ), for example using ravel().\n",
      "/Users/jonathanfraine/anaconda/lib/python2.7/site-packages/ipykernel/__main__.py:19: DataConversionWarning: A column-vector y was passed when a 1d array was expected. Please change the shape of y to (n_samples, ), for example using ravel().\n",
      "/Users/jonathanfraine/anaconda/lib/python2.7/site-packages/ipykernel/__main__.py:19: DataConversionWarning: A column-vector y was passed when a 1d array was expected. Please change the shape of y to (n_samples, ), for example using ravel().\n",
      "/Users/jonathanfraine/anaconda/lib/python2.7/site-packages/ipykernel/__main__.py:19: DataConversionWarning: A column-vector y was passed when a 1d array was expected. Please change the shape of y to (n_samples, ), for example using ravel().\n",
      "/Users/jonathanfraine/anaconda/lib/python2.7/site-packages/ipykernel/__main__.py:19: DataConversionWarning: A column-vector y was passed when a 1d array was expected. Please change the shape of y to (n_samples, ), for example using ravel().\n",
      "/Users/jonathanfraine/anaconda/lib/python2.7/site-packages/ipykernel/__main__.py:19: DataConversionWarning: A column-vector y was passed when a 1d array was expected. Please change the shape of y to (n_samples, ), for example using ravel().\n",
      "/Users/jonathanfraine/anaconda/lib/python2.7/site-packages/ipykernel/__main__.py:19: DataConversionWarning: A column-vector y was passed when a 1d array was expected. Please change the shape of y to (n_samples, ), for example using ravel().\n",
      "/Users/jonathanfraine/anaconda/lib/python2.7/site-packages/ipykernel/__main__.py:19: DataConversionWarning: A column-vector y was passed when a 1d array was expected. Please change the shape of y to (n_samples, ), for example using ravel().\n",
      "/Users/jonathanfraine/anaconda/lib/python2.7/site-packages/ipykernel/__main__.py:19: DataConversionWarning: A column-vector y was passed when a 1d array was expected. Please change the shape of y to (n_samples, ), for example using ravel().\n",
      "/Users/jonathanfraine/anaconda/lib/python2.7/site-packages/ipykernel/__main__.py:19: DataConversionWarning: A column-vector y was passed when a 1d array was expected. Please change the shape of y to (n_samples, ), for example using ravel().\n",
      "/Users/jonathanfraine/anaconda/lib/python2.7/site-packages/ipykernel/__main__.py:19: DataConversionWarning: A column-vector y was passed when a 1d array was expected. Please change the shape of y to (n_samples, ), for example using ravel().\n",
      "/Users/jonathanfraine/anaconda/lib/python2.7/site-packages/ipykernel/__main__.py:19: DataConversionWarning: A column-vector y was passed when a 1d array was expected. Please change the shape of y to (n_samples, ), for example using ravel().\n",
      "/Users/jonathanfraine/anaconda/lib/python2.7/site-packages/ipykernel/__main__.py:19: DataConversionWarning: A column-vector y was passed when a 1d array was expected. Please change the shape of y to (n_samples, ), for example using ravel().\n",
      "/Users/jonathanfraine/anaconda/lib/python2.7/site-packages/ipykernel/__main__.py:19: DataConversionWarning: A column-vector y was passed when a 1d array was expected. Please change the shape of y to (n_samples, ), for example using ravel().\n",
      "/Users/jonathanfraine/anaconda/lib/python2.7/site-packages/ipykernel/__main__.py:19: DataConversionWarning: A column-vector y was passed when a 1d array was expected. Please change the shape of y to (n_samples, ), for example using ravel().\n",
      "/Users/jonathanfraine/anaconda/lib/python2.7/site-packages/ipykernel/__main__.py:19: DataConversionWarning: A column-vector y was passed when a 1d array was expected. Please change the shape of y to (n_samples, ), for example using ravel().\n",
      "/Users/jonathanfraine/anaconda/lib/python2.7/site-packages/ipykernel/__main__.py:19: DataConversionWarning: A column-vector y was passed when a 1d array was expected. Please change the shape of y to (n_samples, ), for example using ravel().\n",
      "/Users/jonathanfraine/anaconda/lib/python2.7/site-packages/ipykernel/__main__.py:19: DataConversionWarning: A column-vector y was passed when a 1d array was expected. Please change the shape of y to (n_samples, ), for example using ravel().\n",
      "/Users/jonathanfraine/anaconda/lib/python2.7/site-packages/ipykernel/__main__.py:19: DataConversionWarning: A column-vector y was passed when a 1d array was expected. Please change the shape of y to (n_samples, ), for example using ravel().\n",
      "/Users/jonathanfraine/anaconda/lib/python2.7/site-packages/ipykernel/__main__.py:19: DataConversionWarning: A column-vector y was passed when a 1d array was expected. Please change the shape of y to (n_samples, ), for example using ravel().\n",
      "/Users/jonathanfraine/anaconda/lib/python2.7/site-packages/ipykernel/__main__.py:19: DataConversionWarning: A column-vector y was passed when a 1d array was expected. Please change the shape of y to (n_samples, ), for example using ravel().\n",
      "/Users/jonathanfraine/anaconda/lib/python2.7/site-packages/ipykernel/__main__.py:19: DataConversionWarning: A column-vector y was passed when a 1d array was expected. Please change the shape of y to (n_samples, ), for example using ravel().\n",
      "/Users/jonathanfraine/anaconda/lib/python2.7/site-packages/ipykernel/__main__.py:19: DataConversionWarning: A column-vector y was passed when a 1d array was expected. Please change the shape of y to (n_samples, ), for example using ravel().\n",
      "/Users/jonathanfraine/anaconda/lib/python2.7/site-packages/ipykernel/__main__.py:19: DataConversionWarning: A column-vector y was passed when a 1d array was expected. Please change the shape of y to (n_samples, ), for example using ravel().\n",
      "/Users/jonathanfraine/anaconda/lib/python2.7/site-packages/ipykernel/__main__.py:19: DataConversionWarning: A column-vector y was passed when a 1d array was expected. Please change the shape of y to (n_samples, ), for example using ravel().\n",
      "/Users/jonathanfraine/anaconda/lib/python2.7/site-packages/ipykernel/__main__.py:19: DataConversionWarning: A column-vector y was passed when a 1d array was expected. Please change the shape of y to (n_samples, ), for example using ravel().\n",
      "/Users/jonathanfraine/anaconda/lib/python2.7/site-packages/ipykernel/__main__.py:19: DataConversionWarning: A column-vector y was passed when a 1d array was expected. Please change the shape of y to (n_samples, ), for example using ravel().\n",
      "/Users/jonathanfraine/anaconda/lib/python2.7/site-packages/ipykernel/__main__.py:19: DataConversionWarning: A column-vector y was passed when a 1d array was expected. Please change the shape of y to (n_samples, ), for example using ravel().\n",
      "/Users/jonathanfraine/anaconda/lib/python2.7/site-packages/ipykernel/__main__.py:19: DataConversionWarning: A column-vector y was passed when a 1d array was expected. Please change the shape of y to (n_samples, ), for example using ravel().\n",
      "/Users/jonathanfraine/anaconda/lib/python2.7/site-packages/ipykernel/__main__.py:19: DataConversionWarning: A column-vector y was passed when a 1d array was expected. Please change the shape of y to (n_samples, ), for example using ravel().\n",
      "/Users/jonathanfraine/anaconda/lib/python2.7/site-packages/ipykernel/__main__.py:19: DataConversionWarning: A column-vector y was passed when a 1d array was expected. Please change the shape of y to (n_samples, ), for example using ravel().\n",
      "/Users/jonathanfraine/anaconda/lib/python2.7/site-packages/ipykernel/__main__.py:19: DataConversionWarning: A column-vector y was passed when a 1d array was expected. Please change the shape of y to (n_samples, ), for example using ravel().\n",
      "/Users/jonathanfraine/anaconda/lib/python2.7/site-packages/ipykernel/__main__.py:19: DataConversionWarning: A column-vector y was passed when a 1d array was expected. Please change the shape of y to (n_samples, ), for example using ravel().\n",
      "/Users/jonathanfraine/anaconda/lib/python2.7/site-packages/ipykernel/__main__.py:19: DataConversionWarning: A column-vector y was passed when a 1d array was expected. Please change the shape of y to (n_samples, ), for example using ravel().\n",
      "/Users/jonathanfraine/anaconda/lib/python2.7/site-packages/ipykernel/__main__.py:19: DataConversionWarning: A column-vector y was passed when a 1d array was expected. Please change the shape of y to (n_samples, ), for example using ravel().\n",
      "/Users/jonathanfraine/anaconda/lib/python2.7/site-packages/ipykernel/__main__.py:19: DataConversionWarning: A column-vector y was passed when a 1d array was expected. Please change the shape of y to (n_samples, ), for example using ravel().\n",
      "/Users/jonathanfraine/anaconda/lib/python2.7/site-packages/ipykernel/__main__.py:19: DataConversionWarning: A column-vector y was passed when a 1d array was expected. Please change the shape of y to (n_samples, ), for example using ravel().\n",
      "/Users/jonathanfraine/anaconda/lib/python2.7/site-packages/ipykernel/__main__.py:19: DataConversionWarning: A column-vector y was passed when a 1d array was expected. Please change the shape of y to (n_samples, ), for example using ravel().\n",
      "/Users/jonathanfraine/anaconda/lib/python2.7/site-packages/ipykernel/__main__.py:19: DataConversionWarning: A column-vector y was passed when a 1d array was expected. Please change the shape of y to (n_samples, ), for example using ravel().\n",
      "/Users/jonathanfraine/anaconda/lib/python2.7/site-packages/ipykernel/__main__.py:19: DataConversionWarning: A column-vector y was passed when a 1d array was expected. Please change the shape of y to (n_samples, ), for example using ravel().\n",
      "/Users/jonathanfraine/anaconda/lib/python2.7/site-packages/ipykernel/__main__.py:19: DataConversionWarning: A column-vector y was passed when a 1d array was expected. Please change the shape of y to (n_samples, ), for example using ravel().\n",
      "/Users/jonathanfraine/anaconda/lib/python2.7/site-packages/ipykernel/__main__.py:19: DataConversionWarning: A column-vector y was passed when a 1d array was expected. Please change the shape of y to (n_samples, ), for example using ravel().\n",
      "/Users/jonathanfraine/anaconda/lib/python2.7/site-packages/ipykernel/__main__.py:19: DataConversionWarning: A column-vector y was passed when a 1d array was expected. Please change the shape of y to (n_samples, ), for example using ravel().\n",
      "/Users/jonathanfraine/anaconda/lib/python2.7/site-packages/ipykernel/__main__.py:19: DataConversionWarning: A column-vector y was passed when a 1d array was expected. Please change the shape of y to (n_samples, ), for example using ravel().\n",
      "/Users/jonathanfraine/anaconda/lib/python2.7/site-packages/ipykernel/__main__.py:19: DataConversionWarning: A column-vector y was passed when a 1d array was expected. Please change the shape of y to (n_samples, ), for example using ravel().\n",
      "/Users/jonathanfraine/anaconda/lib/python2.7/site-packages/ipykernel/__main__.py:19: DataConversionWarning: A column-vector y was passed when a 1d array was expected. Please change the shape of y to (n_samples, ), for example using ravel().\n",
      "/Users/jonathanfraine/anaconda/lib/python2.7/site-packages/ipykernel/__main__.py:19: DataConversionWarning: A column-vector y was passed when a 1d array was expected. Please change the shape of y to (n_samples, ), for example using ravel().\n",
      "/Users/jonathanfraine/anaconda/lib/python2.7/site-packages/ipykernel/__main__.py:19: DataConversionWarning: A column-vector y was passed when a 1d array was expected. Please change the shape of y to (n_samples, ), for example using ravel().\n",
      "/Users/jonathanfraine/anaconda/lib/python2.7/site-packages/ipykernel/__main__.py:19: DataConversionWarning: A column-vector y was passed when a 1d array was expected. Please change the shape of y to (n_samples, ), for example using ravel().\n",
      "/Users/jonathanfraine/anaconda/lib/python2.7/site-packages/ipykernel/__main__.py:19: DataConversionWarning: A column-vector y was passed when a 1d array was expected. Please change the shape of y to (n_samples, ), for example using ravel().\n",
      "/Users/jonathanfraine/anaconda/lib/python2.7/site-packages/ipykernel/__main__.py:19: DataConversionWarning: A column-vector y was passed when a 1d array was expected. Please change the shape of y to (n_samples, ), for example using ravel().\n",
      "/Users/jonathanfraine/anaconda/lib/python2.7/site-packages/ipykernel/__main__.py:19: DataConversionWarning: A column-vector y was passed when a 1d array was expected. Please change the shape of y to (n_samples, ), for example using ravel().\n",
      "/Users/jonathanfraine/anaconda/lib/python2.7/site-packages/ipykernel/__main__.py:19: DataConversionWarning: A column-vector y was passed when a 1d array was expected. Please change the shape of y to (n_samples, ), for example using ravel().\n",
      "/Users/jonathanfraine/anaconda/lib/python2.7/site-packages/ipykernel/__main__.py:19: DataConversionWarning: A column-vector y was passed when a 1d array was expected. Please change the shape of y to (n_samples, ), for example using ravel().\n",
      "/Users/jonathanfraine/anaconda/lib/python2.7/site-packages/ipykernel/__main__.py:19: DataConversionWarning: A column-vector y was passed when a 1d array was expected. Please change the shape of y to (n_samples, ), for example using ravel().\n",
      "/Users/jonathanfraine/anaconda/lib/python2.7/site-packages/ipykernel/__main__.py:19: DataConversionWarning: A column-vector y was passed when a 1d array was expected. Please change the shape of y to (n_samples, ), for example using ravel().\n",
      "/Users/jonathanfraine/anaconda/lib/python2.7/site-packages/ipykernel/__main__.py:19: DataConversionWarning: A column-vector y was passed when a 1d array was expected. Please change the shape of y to (n_samples, ), for example using ravel().\n",
      "/Users/jonathanfraine/anaconda/lib/python2.7/site-packages/ipykernel/__main__.py:19: DataConversionWarning: A column-vector y was passed when a 1d array was expected. Please change the shape of y to (n_samples, ), for example using ravel().\n",
      "/Users/jonathanfraine/anaconda/lib/python2.7/site-packages/ipykernel/__main__.py:19: DataConversionWarning: A column-vector y was passed when a 1d array was expected. Please change the shape of y to (n_samples, ), for example using ravel().\n",
      "/Users/jonathanfraine/anaconda/lib/python2.7/site-packages/ipykernel/__main__.py:19: DataConversionWarning: A column-vector y was passed when a 1d array was expected. Please change the shape of y to (n_samples, ), for example using ravel().\n",
      "/Users/jonathanfraine/anaconda/lib/python2.7/site-packages/ipykernel/__main__.py:19: DataConversionWarning: A column-vector y was passed when a 1d array was expected. Please change the shape of y to (n_samples, ), for example using ravel().\n",
      "/Users/jonathanfraine/anaconda/lib/python2.7/site-packages/ipykernel/__main__.py:19: DataConversionWarning: A column-vector y was passed when a 1d array was expected. Please change the shape of y to (n_samples, ), for example using ravel().\n",
      "/Users/jonathanfraine/anaconda/lib/python2.7/site-packages/ipykernel/__main__.py:19: DataConversionWarning: A column-vector y was passed when a 1d array was expected. Please change the shape of y to (n_samples, ), for example using ravel().\n",
      "/Users/jonathanfraine/anaconda/lib/python2.7/site-packages/ipykernel/__main__.py:19: DataConversionWarning: A column-vector y was passed when a 1d array was expected. Please change the shape of y to (n_samples, ), for example using ravel().\n",
      "/Users/jonathanfraine/anaconda/lib/python2.7/site-packages/ipykernel/__main__.py:19: DataConversionWarning: A column-vector y was passed when a 1d array was expected. Please change the shape of y to (n_samples, ), for example using ravel().\n",
      "/Users/jonathanfraine/anaconda/lib/python2.7/site-packages/ipykernel/__main__.py:19: DataConversionWarning: A column-vector y was passed when a 1d array was expected. Please change the shape of y to (n_samples, ), for example using ravel().\n",
      "/Users/jonathanfraine/anaconda/lib/python2.7/site-packages/ipykernel/__main__.py:19: DataConversionWarning: A column-vector y was passed when a 1d array was expected. Please change the shape of y to (n_samples, ), for example using ravel().\n",
      "/Users/jonathanfraine/anaconda/lib/python2.7/site-packages/ipykernel/__main__.py:19: DataConversionWarning: A column-vector y was passed when a 1d array was expected. Please change the shape of y to (n_samples, ), for example using ravel().\n",
      "/Users/jonathanfraine/anaconda/lib/python2.7/site-packages/ipykernel/__main__.py:19: DataConversionWarning: A column-vector y was passed when a 1d array was expected. Please change the shape of y to (n_samples, ), for example using ravel().\n",
      "/Users/jonathanfraine/anaconda/lib/python2.7/site-packages/ipykernel/__main__.py:19: DataConversionWarning: A column-vector y was passed when a 1d array was expected. Please change the shape of y to (n_samples, ), for example using ravel().\n",
      "/Users/jonathanfraine/anaconda/lib/python2.7/site-packages/ipykernel/__main__.py:19: DataConversionWarning: A column-vector y was passed when a 1d array was expected. Please change the shape of y to (n_samples, ), for example using ravel().\n",
      "/Users/jonathanfraine/anaconda/lib/python2.7/site-packages/ipykernel/__main__.py:19: DataConversionWarning: A column-vector y was passed when a 1d array was expected. Please change the shape of y to (n_samples, ), for example using ravel().\n",
      "/Users/jonathanfraine/anaconda/lib/python2.7/site-packages/ipykernel/__main__.py:19: DataConversionWarning: A column-vector y was passed when a 1d array was expected. Please change the shape of y to (n_samples, ), for example using ravel().\n",
      "/Users/jonathanfraine/anaconda/lib/python2.7/site-packages/ipykernel/__main__.py:19: DataConversionWarning: A column-vector y was passed when a 1d array was expected. Please change the shape of y to (n_samples, ), for example using ravel().\n",
      "/Users/jonathanfraine/anaconda/lib/python2.7/site-packages/ipykernel/__main__.py:19: DataConversionWarning: A column-vector y was passed when a 1d array was expected. Please change the shape of y to (n_samples, ), for example using ravel().\n",
      "/Users/jonathanfraine/anaconda/lib/python2.7/site-packages/ipykernel/__main__.py:19: DataConversionWarning: A column-vector y was passed when a 1d array was expected. Please change the shape of y to (n_samples, ), for example using ravel().\n",
      "/Users/jonathanfraine/anaconda/lib/python2.7/site-packages/ipykernel/__main__.py:19: DataConversionWarning: A column-vector y was passed when a 1d array was expected. Please change the shape of y to (n_samples, ), for example using ravel().\n",
      "/Users/jonathanfraine/anaconda/lib/python2.7/site-packages/ipykernel/__main__.py:19: DataConversionWarning: A column-vector y was passed when a 1d array was expected. Please change the shape of y to (n_samples, ), for example using ravel().\n",
      "/Users/jonathanfraine/anaconda/lib/python2.7/site-packages/ipykernel/__main__.py:19: DataConversionWarning: A column-vector y was passed when a 1d array was expected. Please change the shape of y to (n_samples, ), for example using ravel().\n",
      "/Users/jonathanfraine/anaconda/lib/python2.7/site-packages/ipykernel/__main__.py:19: DataConversionWarning: A column-vector y was passed when a 1d array was expected. Please change the shape of y to (n_samples, ), for example using ravel().\n",
      "/Users/jonathanfraine/anaconda/lib/python2.7/site-packages/ipykernel/__main__.py:19: DataConversionWarning: A column-vector y was passed when a 1d array was expected. Please change the shape of y to (n_samples, ), for example using ravel().\n",
      "/Users/jonathanfraine/anaconda/lib/python2.7/site-packages/ipykernel/__main__.py:19: DataConversionWarning: A column-vector y was passed when a 1d array was expected. Please change the shape of y to (n_samples, ), for example using ravel().\n",
      "/Users/jonathanfraine/anaconda/lib/python2.7/site-packages/ipykernel/__main__.py:19: DataConversionWarning: A column-vector y was passed when a 1d array was expected. Please change the shape of y to (n_samples, ), for example using ravel().\n",
      "/Users/jonathanfraine/anaconda/lib/python2.7/site-packages/ipykernel/__main__.py:19: DataConversionWarning: A column-vector y was passed when a 1d array was expected. Please change the shape of y to (n_samples, ), for example using ravel().\n",
      "/Users/jonathanfraine/anaconda/lib/python2.7/site-packages/ipykernel/__main__.py:19: DataConversionWarning: A column-vector y was passed when a 1d array was expected. Please change the shape of y to (n_samples, ), for example using ravel().\n",
      "/Users/jonathanfraine/anaconda/lib/python2.7/site-packages/ipykernel/__main__.py:19: DataConversionWarning: A column-vector y was passed when a 1d array was expected. Please change the shape of y to (n_samples, ), for example using ravel().\n",
      "/Users/jonathanfraine/anaconda/lib/python2.7/site-packages/ipykernel/__main__.py:19: DataConversionWarning: A column-vector y was passed when a 1d array was expected. Please change the shape of y to (n_samples, ), for example using ravel().\n",
      "/Users/jonathanfraine/anaconda/lib/python2.7/site-packages/ipykernel/__main__.py:19: DataConversionWarning: A column-vector y was passed when a 1d array was expected. Please change the shape of y to (n_samples, ), for example using ravel().\n",
      "/Users/jonathanfraine/anaconda/lib/python2.7/site-packages/ipykernel/__main__.py:19: DataConversionWarning: A column-vector y was passed when a 1d array was expected. Please change the shape of y to (n_samples, ), for example using ravel().\n",
      "/Users/jonathanfraine/anaconda/lib/python2.7/site-packages/ipykernel/__main__.py:19: DataConversionWarning: A column-vector y was passed when a 1d array was expected. Please change the shape of y to (n_samples, ), for example using ravel().\n",
      "/Users/jonathanfraine/anaconda/lib/python2.7/site-packages/ipykernel/__main__.py:19: DataConversionWarning: A column-vector y was passed when a 1d array was expected. Please change the shape of y to (n_samples, ), for example using ravel().\n",
      "/Users/jonathanfraine/anaconda/lib/python2.7/site-packages/ipykernel/__main__.py:19: DataConversionWarning: A column-vector y was passed when a 1d array was expected. Please change the shape of y to (n_samples, ), for example using ravel().\n",
      "/Users/jonathanfraine/anaconda/lib/python2.7/site-packages/ipykernel/__main__.py:19: DataConversionWarning: A column-vector y was passed when a 1d array was expected. Please change the shape of y to (n_samples, ), for example using ravel().\n",
      "/Users/jonathanfraine/anaconda/lib/python2.7/site-packages/ipykernel/__main__.py:19: DataConversionWarning: A column-vector y was passed when a 1d array was expected. Please change the shape of y to (n_samples, ), for example using ravel().\n",
      "/Users/jonathanfraine/anaconda/lib/python2.7/site-packages/ipykernel/__main__.py:19: DataConversionWarning: A column-vector y was passed when a 1d array was expected. Please change the shape of y to (n_samples, ), for example using ravel().\n",
      "/Users/jonathanfraine/anaconda/lib/python2.7/site-packages/ipykernel/__main__.py:19: DataConversionWarning: A column-vector y was passed when a 1d array was expected. Please change the shape of y to (n_samples, ), for example using ravel().\n",
      "/Users/jonathanfraine/anaconda/lib/python2.7/site-packages/ipykernel/__main__.py:19: DataConversionWarning: A column-vector y was passed when a 1d array was expected. Please change the shape of y to (n_samples, ), for example using ravel().\n",
      "/Users/jonathanfraine/anaconda/lib/python2.7/site-packages/ipykernel/__main__.py:19: DataConversionWarning: A column-vector y was passed when a 1d array was expected. Please change the shape of y to (n_samples, ), for example using ravel().\n",
      "/Users/jonathanfraine/anaconda/lib/python2.7/site-packages/ipykernel/__main__.py:19: DataConversionWarning: A column-vector y was passed when a 1d array was expected. Please change the shape of y to (n_samples, ), for example using ravel().\n",
      "/Users/jonathanfraine/anaconda/lib/python2.7/site-packages/ipykernel/__main__.py:19: DataConversionWarning: A column-vector y was passed when a 1d array was expected. Please change the shape of y to (n_samples, ), for example using ravel().\n",
      "/Users/jonathanfraine/anaconda/lib/python2.7/site-packages/ipykernel/__main__.py:19: DataConversionWarning: A column-vector y was passed when a 1d array was expected. Please change the shape of y to (n_samples, ), for example using ravel().\n",
      "/Users/jonathanfraine/anaconda/lib/python2.7/site-packages/ipykernel/__main__.py:19: DataConversionWarning: A column-vector y was passed when a 1d array was expected. Please change the shape of y to (n_samples, ), for example using ravel().\n",
      "/Users/jonathanfraine/anaconda/lib/python2.7/site-packages/ipykernel/__main__.py:19: DataConversionWarning: A column-vector y was passed when a 1d array was expected. Please change the shape of y to (n_samples, ), for example using ravel().\n",
      "/Users/jonathanfraine/anaconda/lib/python2.7/site-packages/ipykernel/__main__.py:19: DataConversionWarning: A column-vector y was passed when a 1d array was expected. Please change the shape of y to (n_samples, ), for example using ravel().\n",
      "/Users/jonathanfraine/anaconda/lib/python2.7/site-packages/ipykernel/__main__.py:19: DataConversionWarning: A column-vector y was passed when a 1d array was expected. Please change the shape of y to (n_samples, ), for example using ravel().\n",
      "/Users/jonathanfraine/anaconda/lib/python2.7/site-packages/ipykernel/__main__.py:19: DataConversionWarning: A column-vector y was passed when a 1d array was expected. Please change the shape of y to (n_samples, ), for example using ravel().\n",
      "/Users/jonathanfraine/anaconda/lib/python2.7/site-packages/ipykernel/__main__.py:19: DataConversionWarning: A column-vector y was passed when a 1d array was expected. Please change the shape of y to (n_samples, ), for example using ravel().\n",
      "/Users/jonathanfraine/anaconda/lib/python2.7/site-packages/ipykernel/__main__.py:19: DataConversionWarning: A column-vector y was passed when a 1d array was expected. Please change the shape of y to (n_samples, ), for example using ravel().\n",
      "/Users/jonathanfraine/anaconda/lib/python2.7/site-packages/ipykernel/__main__.py:19: DataConversionWarning: A column-vector y was passed when a 1d array was expected. Please change the shape of y to (n_samples, ), for example using ravel().\n",
      "/Users/jonathanfraine/anaconda/lib/python2.7/site-packages/ipykernel/__main__.py:19: DataConversionWarning: A column-vector y was passed when a 1d array was expected. Please change the shape of y to (n_samples, ), for example using ravel().\n",
      "/Users/jonathanfraine/anaconda/lib/python2.7/site-packages/ipykernel/__main__.py:19: DataConversionWarning: A column-vector y was passed when a 1d array was expected. Please change the shape of y to (n_samples, ), for example using ravel().\n",
      "/Users/jonathanfraine/anaconda/lib/python2.7/site-packages/ipykernel/__main__.py:19: DataConversionWarning: A column-vector y was passed when a 1d array was expected. Please change the shape of y to (n_samples, ), for example using ravel().\n",
      "/Users/jonathanfraine/anaconda/lib/python2.7/site-packages/ipykernel/__main__.py:19: DataConversionWarning: A column-vector y was passed when a 1d array was expected. Please change the shape of y to (n_samples, ), for example using ravel().\n",
      "/Users/jonathanfraine/anaconda/lib/python2.7/site-packages/ipykernel/__main__.py:19: DataConversionWarning: A column-vector y was passed when a 1d array was expected. Please change the shape of y to (n_samples, ), for example using ravel().\n",
      "/Users/jonathanfraine/anaconda/lib/python2.7/site-packages/ipykernel/__main__.py:19: DataConversionWarning: A column-vector y was passed when a 1d array was expected. Please change the shape of y to (n_samples, ), for example using ravel().\n"
     ]
    },
    {
     "name": "stdout",
     "output_type": "stream",
     "text": [
      "Mean Accuracy = 96.85%\n"
     ]
    },
    {
     "name": "stderr",
     "output_type": "stream",
     "text": [
      "/Users/jonathanfraine/anaconda/lib/python2.7/site-packages/ipykernel/__main__.py:19: DataConversionWarning: A column-vector y was passed when a 1d array was expected. Please change the shape of y to (n_samples, ), for example using ravel().\n",
      "/Users/jonathanfraine/anaconda/lib/python2.7/site-packages/ipykernel/__main__.py:19: DataConversionWarning: A column-vector y was passed when a 1d array was expected. Please change the shape of y to (n_samples, ), for example using ravel().\n",
      "/Users/jonathanfraine/anaconda/lib/python2.7/site-packages/ipykernel/__main__.py:19: DataConversionWarning: A column-vector y was passed when a 1d array was expected. Please change the shape of y to (n_samples, ), for example using ravel().\n",
      "/Users/jonathanfraine/anaconda/lib/python2.7/site-packages/ipykernel/__main__.py:19: DataConversionWarning: A column-vector y was passed when a 1d array was expected. Please change the shape of y to (n_samples, ), for example using ravel().\n",
      "/Users/jonathanfraine/anaconda/lib/python2.7/site-packages/ipykernel/__main__.py:19: DataConversionWarning: A column-vector y was passed when a 1d array was expected. Please change the shape of y to (n_samples, ), for example using ravel().\n",
      "/Users/jonathanfraine/anaconda/lib/python2.7/site-packages/ipykernel/__main__.py:19: DataConversionWarning: A column-vector y was passed when a 1d array was expected. Please change the shape of y to (n_samples, ), for example using ravel().\n",
      "/Users/jonathanfraine/anaconda/lib/python2.7/site-packages/ipykernel/__main__.py:19: DataConversionWarning: A column-vector y was passed when a 1d array was expected. Please change the shape of y to (n_samples, ), for example using ravel().\n",
      "/Users/jonathanfraine/anaconda/lib/python2.7/site-packages/ipykernel/__main__.py:19: DataConversionWarning: A column-vector y was passed when a 1d array was expected. Please change the shape of y to (n_samples, ), for example using ravel().\n",
      "/Users/jonathanfraine/anaconda/lib/python2.7/site-packages/ipykernel/__main__.py:19: DataConversionWarning: A column-vector y was passed when a 1d array was expected. Please change the shape of y to (n_samples, ), for example using ravel().\n",
      "/Users/jonathanfraine/anaconda/lib/python2.7/site-packages/ipykernel/__main__.py:19: DataConversionWarning: A column-vector y was passed when a 1d array was expected. Please change the shape of y to (n_samples, ), for example using ravel().\n",
      "/Users/jonathanfraine/anaconda/lib/python2.7/site-packages/ipykernel/__main__.py:19: DataConversionWarning: A column-vector y was passed when a 1d array was expected. Please change the shape of y to (n_samples, ), for example using ravel().\n",
      "/Users/jonathanfraine/anaconda/lib/python2.7/site-packages/ipykernel/__main__.py:19: DataConversionWarning: A column-vector y was passed when a 1d array was expected. Please change the shape of y to (n_samples, ), for example using ravel().\n",
      "/Users/jonathanfraine/anaconda/lib/python2.7/site-packages/ipykernel/__main__.py:19: DataConversionWarning: A column-vector y was passed when a 1d array was expected. Please change the shape of y to (n_samples, ), for example using ravel().\n",
      "/Users/jonathanfraine/anaconda/lib/python2.7/site-packages/ipykernel/__main__.py:19: DataConversionWarning: A column-vector y was passed when a 1d array was expected. Please change the shape of y to (n_samples, ), for example using ravel().\n",
      "/Users/jonathanfraine/anaconda/lib/python2.7/site-packages/ipykernel/__main__.py:19: DataConversionWarning: A column-vector y was passed when a 1d array was expected. Please change the shape of y to (n_samples, ), for example using ravel().\n",
      "/Users/jonathanfraine/anaconda/lib/python2.7/site-packages/ipykernel/__main__.py:19: DataConversionWarning: A column-vector y was passed when a 1d array was expected. Please change the shape of y to (n_samples, ), for example using ravel().\n",
      "/Users/jonathanfraine/anaconda/lib/python2.7/site-packages/ipykernel/__main__.py:19: DataConversionWarning: A column-vector y was passed when a 1d array was expected. Please change the shape of y to (n_samples, ), for example using ravel().\n",
      "/Users/jonathanfraine/anaconda/lib/python2.7/site-packages/ipykernel/__main__.py:19: DataConversionWarning: A column-vector y was passed when a 1d array was expected. Please change the shape of y to (n_samples, ), for example using ravel().\n",
      "/Users/jonathanfraine/anaconda/lib/python2.7/site-packages/ipykernel/__main__.py:19: DataConversionWarning: A column-vector y was passed when a 1d array was expected. Please change the shape of y to (n_samples, ), for example using ravel().\n"
     ]
    }
   ],
   "source": [
    "filename    = 'breast-cancer-wisconsin.data'\n",
    "df = pd.read_csv(filename)\n",
    "df.replace('?',-99999, inplace=True)\n",
    "\n",
    "useless = [\"ID\"]\n",
    "df.drop(useless, 1, inplace=True)\n",
    "\n",
    "X   = np.array(df.drop(target,1))\n",
    "y   = np.array(df[target])\n",
    "\n",
    "splitRatio    = 0.20\n",
    "random_state  = 42\n",
    "\n",
    "accuracies    = []\n",
    "for ii in range(200):\n",
    "    X_train, X_test, y_train, y_test    = cross_validation.train_test_split(X, y, test_size=splitRatio)\n",
    "    \n",
    "    clf = neighbors.KNeighborsClassifier(n_neighbors=5)\n",
    "    clf.fit(X_train, y_train)\n",
    "#     print \"{0:d}   Accuracy = {1:.2f}%\".format(ii, clf.score(X_test, y_test)*100) \n",
    "    accuracies.append(clf.score(X_test, y_test)*100)\n",
    "\n",
    "print \"Mean Accuracy = {0:.2f}%\".format(np.mean(accuracies))"
   ]
  }
 ],
 "metadata": {
  "kernelspec": {
   "display_name": "Python 2",
   "language": "python",
   "name": "python2"
  },
  "language_info": {
   "codemirror_mode": {
    "name": "ipython",
    "version": 2
   },
   "file_extension": ".py",
   "mimetype": "text/x-python",
   "name": "python",
   "nbconvert_exporter": "python",
   "pygments_lexer": "ipython2",
   "version": "2.7.11"
  }
 },
 "nbformat": 4,
 "nbformat_minor": 0
}

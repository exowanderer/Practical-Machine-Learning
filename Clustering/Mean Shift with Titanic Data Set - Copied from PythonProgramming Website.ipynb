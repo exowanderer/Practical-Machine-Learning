{
 "cells": [
  {
   "cell_type": "code",
   "execution_count": 12,
   "metadata": {
    "collapsed": false
   },
   "outputs": [
    {
     "data": {
      "text/plain": [
       "MeanShift(bandwidth=None, bin_seeding=False, cluster_all=True, min_bin_freq=1,\n",
       "     n_jobs=1, seeds=None)"
      ]
     },
     "execution_count": 12,
     "metadata": {},
     "output_type": "execute_result"
    }
   ],
   "source": [
    "# https://pythonprogramming.net/mean-shift-titanic-dataset-machine-learning-tutorial/\n",
    "%matplotlib inline\n",
    "\n",
    "import numpy as np\n",
    "from sklearn.cluster import MeanShift, KMeans\n",
    "from sklearn import preprocessing, cross_validation\n",
    "import pandas as pd\n",
    "import matplotlib.pyplot as plt\n",
    "\n",
    "\n",
    "'''\n",
    "Pclass Passenger Class (1 = 1st; 2 = 2nd; 3 = 3rd)\n",
    "survival Survival (0 = No; 1 = Yes)\n",
    "name Name\n",
    "sex Sex\n",
    "age Age\n",
    "sibsp Number of Siblings/Spouses Aboard\n",
    "parch Number of Parents/Children Aboard\n",
    "ticket Ticket Number\n",
    "fare Passenger Fare (British pound)\n",
    "cabin Cabin\n",
    "embarked Port of Embarkation (C = Cherbourg; Q = Queenstown; S = Southampton)\n",
    "boat Lifeboat\n",
    "body Body Identification Number\n",
    "home.dest Home/Destination\n",
    "'''\n",
    "\n",
    "\n",
    "# https://pythonprogramming.net/static/downloads/machine-learning-data/titanic.xls\n",
    "df = pd.read_excel('titanic.xls')\n",
    "\n",
    "original_df = pd.DataFrame.copy(df)\n",
    "df.drop(['body','name'], 1, inplace=True)\n",
    "df.fillna(0,inplace=True)\n",
    "\n",
    "def handle_non_numerical_data(df):\n",
    "    \n",
    "    # handling non-numerical data: must convert.\n",
    "    columns = df.columns.values\n",
    "\n",
    "    for column in columns:\n",
    "        text_digit_vals = {}\n",
    "        def convert_to_int(val):\n",
    "            return text_digit_vals[val]\n",
    "\n",
    "        #print(column,df[column].dtype)\n",
    "        if df[column].dtype != np.int64 and df[column].dtype != np.float64:\n",
    "            \n",
    "            column_contents = df[column].values.tolist()\n",
    "            #finding just the uniques\n",
    "            unique_elements = set(column_contents)\n",
    "            # great, found them. \n",
    "            x = 0\n",
    "            for unique in unique_elements:\n",
    "                if unique not in text_digit_vals:\n",
    "                    # creating dict that contains new\n",
    "                    # id per unique string\n",
    "                    text_digit_vals[unique] = x\n",
    "                    x+=1\n",
    "            # now we map the new \"id\" vlaue\n",
    "            # to replace the string. \n",
    "            df[column] = list(map(convert_to_int,df[column]))\n",
    "\n",
    "    return df\n",
    "\n",
    "df = handle_non_numerical_data(df)\n",
    "df.drop(['ticket','home.dest'], 1, inplace=True)\n",
    "\n",
    "X = np.array(df.drop(['survived'], 1).astype(float))\n",
    "X = preprocessing.scale(X)\n",
    "y = np.array(df['survived'])\n",
    "\n",
    "clf = MeanShift()\n",
    "clf.fit(X)"
   ]
  },
  {
   "cell_type": "code",
   "execution_count": 13,
   "metadata": {
    "collapsed": true
   },
   "outputs": [],
   "source": [
    "labels = clf.labels_\n",
    "cluster_centers = clf.cluster_centers_"
   ]
  },
  {
   "cell_type": "code",
   "execution_count": 14,
   "metadata": {
    "collapsed": true
   },
   "outputs": [],
   "source": [
    "original_df['cluster_group']=np.nan"
   ]
  },
  {
   "cell_type": "code",
   "execution_count": 15,
   "metadata": {
    "collapsed": false
   },
   "outputs": [
    {
     "name": "stderr",
     "output_type": "stream",
     "text": [
      "/Users/jonathanfraine/anaconda/lib/python3.5/site-packages/pandas/core/indexing.py:132: SettingWithCopyWarning: \n",
      "A value is trying to be set on a copy of a slice from a DataFrame\n",
      "\n",
      "See the caveats in the documentation: http://pandas.pydata.org/pandas-docs/stable/indexing.html#indexing-view-versus-copy\n",
      "  self._setitem_with_indexer(indexer, value)\n"
     ]
    }
   ],
   "source": [
    "for i in range(len(X)):\n",
    "    original_df['cluster_group'].iloc[i] = labels[i]"
   ]
  },
  {
   "cell_type": "code",
   "execution_count": 16,
   "metadata": {
    "collapsed": false
   },
   "outputs": [
    {
     "data": {
      "text/plain": [
       "{0: 0.37022292993630573, 1: 0.7567567567567568, 2: 1.0, 3: 0.1}"
      ]
     },
     "execution_count": 16,
     "metadata": {},
     "output_type": "execute_result"
    }
   ],
   "source": [
    "n_clusters_ = len(np.unique(labels))\n",
    "survival_rates = {}\n",
    "for i in range(n_clusters_):\n",
    "    temp_df = original_df[ (original_df['cluster_group']==float(i)) ]\n",
    "    #print(temp_df.head())\n",
    "\n",
    "    survival_cluster = temp_df[  (temp_df['survived'] == 1) ]\n",
    "\n",
    "    survival_rate = len(survival_cluster) / len(temp_df)\n",
    "    #print(i,survival_rate)\n",
    "    survival_rates[i] = survival_rate\n",
    "    \n",
    "survival_rates"
   ]
  },
  {
   "cell_type": "code",
   "execution_count": 17,
   "metadata": {
    "collapsed": false
   },
   "outputs": [
    {
     "name": "stdout",
     "output_type": "stream",
     "text": [
      "     pclass  survived                                               name  \\\n",
      "10        1         0                             Astor, Col. John Jacob   \n",
      "16        1         0                           Baxter, Mr. Quigg Edmond   \n",
      "17        1         1    Baxter, Mrs. James (Helene DeLaudeniere Chaput)   \n",
      "54        1         1                Carter, Master. William Thornton II   \n",
      "55        1         1                          Carter, Miss. Lucile Polk   \n",
      "56        1         1                         Carter, Mr. William Ernest   \n",
      "57        1         1          Carter, Mrs. William Ernest (Lucile Polk)   \n",
      "78        1         1  Compton, Mrs. Alexander Taylor (Mary Eliza Ing...   \n",
      "97        1         1  Douglas, Mrs. Frederick Charles (Mary Helene B...   \n",
      "98        1         1        Douglas, Mrs. Walter Donald (Mahala Dutton)   \n",
      "103       1         1                      Endres, Miss. Caroline Louise   \n",
      "111       1         1                     Fortune, Miss. Alice Elizabeth   \n",
      "112       1         1                         Fortune, Miss. Ethel Flora   \n",
      "113       1         1                         Fortune, Miss. Mabel Helen   \n",
      "114       1         0                     Fortune, Mr. Charles Alexander   \n",
      "115       1         0                                  Fortune, Mr. Mark   \n",
      "116       1         1                Fortune, Mrs. Mark (Mary McDougald)   \n",
      "129       1         1                               Geiger, Miss. Amalie   \n",
      "139       1         1      Graham, Mrs. William Thompson (Edith Junkins)   \n",
      "141       1         1       Greenfield, Mrs. Leo David (Blanche Strouse)   \n",
      "173       1         0                                 Keeping, Mr. Edwin   \n",
      "193       1         1                  Madill, Miss. Georgette Alexandra   \n",
      "215       1         0                         Newell, Mr. Arthur Webster   \n",
      "238       1         1  Robert, Mrs. Edward Scott (Elisabeth Walton Mc...   \n",
      "249       1         1                        Ryerson, Master. John Borie   \n",
      "250       1         1                         Ryerson, Miss. Emily Borie   \n",
      "251       1         1              Ryerson, Miss. Susan Parker \"Suzette\"   \n",
      "252       1         0                         Ryerson, Mr. Arthur Larned   \n",
      "253       1         1    Ryerson, Mrs. Arthur Larned (Emily Maria Borie)   \n",
      "273       1         1                    Spedden, Master. Robert Douglas   \n",
      "274       1         1                       Spedden, Mr. Frederic Oakley   \n",
      "275       1         1  Spedden, Mrs. Frederic Oakley (Margaretta Corn...   \n",
      "309       1         1                           Wick, Miss. Mary Natalie   \n",
      "312       1         0                         Widener, Mr. George Dunton   \n",
      "313       1         0                          Widener, Mr. Harry Elkins   \n",
      "314       1         1       Widener, Mrs. George Dunton (Eleanor Elkins)   \n",
      "342       2         1   Becker, Mrs. Allen Oliver (Nellie E Baumgardner)   \n",
      "\n",
      "        sex   age  sibsp  parch    ticket      fare            cabin embarked  \\\n",
      "10     male  47.0      1      0  PC 17757  227.5250          C62 C64        C   \n",
      "16     male  24.0      0      1  PC 17558  247.5208          B58 B60        C   \n",
      "17   female  50.0      0      1  PC 17558  247.5208          B58 B60        C   \n",
      "54     male  11.0      1      2    113760  120.0000          B96 B98        S   \n",
      "55   female  14.0      1      2    113760  120.0000          B96 B98        S   \n",
      "56     male  36.0      1      2    113760  120.0000          B96 B98        S   \n",
      "57   female  36.0      1      2    113760  120.0000          B96 B98        S   \n",
      "78   female  64.0      0      2  PC 17756   83.1583              E45        C   \n",
      "97   female  27.0      1      1  PC 17558  247.5208          B58 B60        C   \n",
      "98   female  48.0      1      0  PC 17761  106.4250              C86        C   \n",
      "103  female  38.0      0      0  PC 17757  227.5250              C45        C   \n",
      "111  female  24.0      3      2     19950  263.0000      C23 C25 C27        S   \n",
      "112  female  28.0      3      2     19950  263.0000      C23 C25 C27        S   \n",
      "113  female  23.0      3      2     19950  263.0000      C23 C25 C27        S   \n",
      "114    male  19.0      3      2     19950  263.0000      C23 C25 C27        S   \n",
      "115    male  64.0      1      4     19950  263.0000      C23 C25 C27        S   \n",
      "116  female  60.0      1      4     19950  263.0000      C23 C25 C27        S   \n",
      "129  female  35.0      0      0    113503  211.5000             C130        C   \n",
      "139  female  58.0      0      1  PC 17582  153.4625             C125        S   \n",
      "141  female  45.0      0      1  PC 17759   63.3583          D10 D12        C   \n",
      "173    male  32.5      0      0    113503  211.5000             C132        C   \n",
      "193  female  15.0      0      1     24160  211.3375               B5        S   \n",
      "215    male  58.0      0      2     35273  113.2750              D48        C   \n",
      "238  female  43.0      0      1     24160  211.3375               B3        S   \n",
      "249    male  13.0      2      2  PC 17608  262.3750  B57 B59 B63 B66        C   \n",
      "250  female  18.0      2      2  PC 17608  262.3750  B57 B59 B63 B66        C   \n",
      "251  female  21.0      2      2  PC 17608  262.3750  B57 B59 B63 B66        C   \n",
      "252    male  61.0      1      3  PC 17608  262.3750  B57 B59 B63 B66        C   \n",
      "253  female  48.0      1      3  PC 17608  262.3750  B57 B59 B63 B66        C   \n",
      "273    male   6.0      0      2     16966  134.5000              E34        C   \n",
      "274    male  45.0      1      1     16966  134.5000              E34        C   \n",
      "275  female  40.0      1      1     16966  134.5000              E34        C   \n",
      "309  female  31.0      0      2     36928  164.8667               C7        S   \n",
      "312    male  50.0      1      1    113503  211.5000              C80        C   \n",
      "313    male  27.0      0      2    113503  211.5000              C82        C   \n",
      "314  female  50.0      1      1    113503  211.5000              C80        C   \n",
      "342  female  36.0      0      3    230136   39.0000               F4        S   \n",
      "\n",
      "    boat   body                           home.dest  cluster_group  \n",
      "10   NaN  124.0                        New York, NY            1.0  \n",
      "16   NaN    NaN                        Montreal, PQ            1.0  \n",
      "17     6    NaN                        Montreal, PQ            1.0  \n",
      "54     4    NaN                       Bryn Mawr, PA            1.0  \n",
      "55     4    NaN                       Bryn Mawr, PA            1.0  \n",
      "56     C    NaN                       Bryn Mawr, PA            1.0  \n",
      "57     4    NaN                       Bryn Mawr, PA            1.0  \n",
      "78    14    NaN                        Lakewood, NJ            1.0  \n",
      "97     6    NaN                        Montreal, PQ            1.0  \n",
      "98     2    NaN    Deephaven, MN / Cedar Rapids, IA            1.0  \n",
      "103    4    NaN                        New York, NY            1.0  \n",
      "111   10    NaN                        Winnipeg, MB            1.0  \n",
      "112   10    NaN                        Winnipeg, MB            1.0  \n",
      "113   10    NaN                        Winnipeg, MB            1.0  \n",
      "114  NaN    NaN                        Winnipeg, MB            1.0  \n",
      "115  NaN    NaN                        Winnipeg, MB            1.0  \n",
      "116   10    NaN                        Winnipeg, MB            1.0  \n",
      "129    4    NaN                                 NaN            1.0  \n",
      "139    3    NaN                       Greenwich, CT            1.0  \n",
      "141    7    NaN                        New York, NY            1.0  \n",
      "173  NaN   45.0                                 NaN            1.0  \n",
      "193    2    NaN                        St Louis, MO            1.0  \n",
      "215  NaN  122.0                       Lexington, MA            1.0  \n",
      "238    2    NaN                        St Louis, MO            1.0  \n",
      "249    4    NaN     Haverford, PA / Cooperstown, NY            1.0  \n",
      "250    4    NaN     Haverford, PA / Cooperstown, NY            1.0  \n",
      "251    4    NaN     Haverford, PA / Cooperstown, NY            1.0  \n",
      "252  NaN    NaN     Haverford, PA / Cooperstown, NY            1.0  \n",
      "253    4    NaN     Haverford, PA / Cooperstown, NY            1.0  \n",
      "273    3    NaN                     Tuxedo Park, NY            1.0  \n",
      "274    3    NaN                     Tuxedo Park, NY            1.0  \n",
      "275    3    NaN                     Tuxedo Park, NY            1.0  \n",
      "309    8    NaN                      Youngstown, OH            1.0  \n",
      "312  NaN    NaN                     Elkins Park, PA            1.0  \n",
      "313  NaN    NaN                     Elkins Park, PA            1.0  \n",
      "314    4    NaN                     Elkins Park, PA            1.0  \n",
      "342   11    NaN  Guntur, India / Benton Harbour, MI            1.0  \n"
     ]
    }
   ],
   "source": [
    "print(original_df[ (original_df['cluster_group']==1) ])"
   ]
  },
  {
   "cell_type": "code",
   "execution_count": 18,
   "metadata": {
    "collapsed": false
   },
   "outputs": [
    {
     "name": "stdout",
     "output_type": "stream",
     "text": [
      "            pclass     survived         age        sibsp       parch  \\\n",
      "count  1256.000000  1256.000000  995.000000  1256.000000  1256.00000   \n",
      "mean      2.332803     0.370223   29.493635     0.487261     0.30414   \n",
      "std       0.818554     0.483057   14.323514     1.047021     0.65463   \n",
      "min       1.000000     0.000000    0.166700     0.000000     0.00000   \n",
      "25%       2.000000     0.000000         NaN     0.000000     0.00000   \n",
      "50%       3.000000     0.000000         NaN     0.000000     0.00000   \n",
      "75%       3.000000     1.000000         NaN     1.000000     0.00000   \n",
      "max       3.000000     1.000000   80.000000     8.000000     4.00000   \n",
      "\n",
      "              fare        body  cluster_group  \n",
      "count  1255.000000  116.000000         1256.0  \n",
      "mean     26.593366  161.189655            0.0  \n",
      "std      32.161736   97.850810            0.0  \n",
      "min       0.000000    1.000000            0.0  \n",
      "25%            NaN         NaN            0.0  \n",
      "50%            NaN         NaN            0.0  \n",
      "75%            NaN         NaN            0.0  \n",
      "max     227.525000  328.000000            0.0  \n"
     ]
    },
    {
     "name": "stderr",
     "output_type": "stream",
     "text": [
      "/Users/jonathanfraine/anaconda/lib/python3.5/site-packages/numpy/lib/function_base.py:3834: RuntimeWarning: Invalid value encountered in percentile\n",
      "  RuntimeWarning)\n"
     ]
    }
   ],
   "source": [
    "print(original_df[ (original_df['cluster_group']==0) ].describe())"
   ]
  },
  {
   "cell_type": "code",
   "execution_count": 19,
   "metadata": {
    "collapsed": false
   },
   "outputs": [
    {
     "name": "stdout",
     "output_type": "stream",
     "text": [
      "       pclass  survived        age  sibsp     parch        fare  body  \\\n",
      "count     6.0       6.0   6.000000    6.0  6.000000    6.000000   0.0   \n",
      "mean      1.0       1.0  40.833333    0.0  0.333333  429.011133   NaN   \n",
      "std       0.0       0.0   9.239408    0.0  0.516398  129.075794   NaN   \n",
      "min       1.0       1.0  35.000000    0.0  0.000000  262.375000   NaN   \n",
      "25%       1.0       1.0  35.250000    0.0  0.000000  324.863550   NaN   \n",
      "50%       1.0       1.0  36.000000    0.0  0.000000  512.329200   NaN   \n",
      "75%       1.0       1.0  42.750000    0.0  0.750000  512.329200   NaN   \n",
      "max       1.0       1.0  58.000000    0.0  1.000000  512.329200   NaN   \n",
      "\n",
      "       cluster_group  \n",
      "count            6.0  \n",
      "mean             2.0  \n",
      "std              0.0  \n",
      "min              2.0  \n",
      "25%              2.0  \n",
      "50%              2.0  \n",
      "75%              2.0  \n",
      "max              2.0  \n"
     ]
    },
    {
     "name": "stderr",
     "output_type": "stream",
     "text": [
      "/Users/jonathanfraine/anaconda/lib/python3.5/site-packages/numpy/lib/function_base.py:3834: RuntimeWarning: Invalid value encountered in percentile\n",
      "  RuntimeWarning)\n"
     ]
    }
   ],
   "source": [
    "print(original_df[ (original_df['cluster_group']==2) ].describe())"
   ]
  },
  {
   "cell_type": "code",
   "execution_count": 20,
   "metadata": {
    "collapsed": false
   },
   "outputs": [
    {
     "name": "stderr",
     "output_type": "stream",
     "text": [
      "/Users/jonathanfraine/anaconda/lib/python3.5/site-packages/numpy/lib/function_base.py:3834: RuntimeWarning: Invalid value encountered in percentile\n",
      "  RuntimeWarning)\n"
     ]
    },
    {
     "data": {
      "text/html": [
       "<div>\n",
       "<table border=\"1\" class=\"dataframe\">\n",
       "  <thead>\n",
       "    <tr style=\"text-align: right;\">\n",
       "      <th></th>\n",
       "      <th>pclass</th>\n",
       "      <th>survived</th>\n",
       "      <th>age</th>\n",
       "      <th>sibsp</th>\n",
       "      <th>parch</th>\n",
       "      <th>fare</th>\n",
       "      <th>body</th>\n",
       "      <th>cluster_group</th>\n",
       "    </tr>\n",
       "  </thead>\n",
       "  <tbody>\n",
       "    <tr>\n",
       "      <th>count</th>\n",
       "      <td>281.0</td>\n",
       "      <td>281.000000</td>\n",
       "      <td>242.000000</td>\n",
       "      <td>281.000000</td>\n",
       "      <td>281.000000</td>\n",
       "      <td>281.000000</td>\n",
       "      <td>32.000000</td>\n",
       "      <td>281.0</td>\n",
       "    </tr>\n",
       "    <tr>\n",
       "      <th>mean</th>\n",
       "      <td>1.0</td>\n",
       "      <td>0.594306</td>\n",
       "      <td>39.532714</td>\n",
       "      <td>0.384342</td>\n",
       "      <td>0.209964</td>\n",
       "      <td>66.034268</td>\n",
       "      <td>169.000000</td>\n",
       "      <td>0.0</td>\n",
       "    </tr>\n",
       "    <tr>\n",
       "      <th>std</th>\n",
       "      <td>0.0</td>\n",
       "      <td>0.491902</td>\n",
       "      <td>14.352001</td>\n",
       "      <td>0.522669</td>\n",
       "      <td>0.495018</td>\n",
       "      <td>45.795996</td>\n",
       "      <td>83.083712</td>\n",
       "      <td>0.0</td>\n",
       "    </tr>\n",
       "    <tr>\n",
       "      <th>min</th>\n",
       "      <td>1.0</td>\n",
       "      <td>0.000000</td>\n",
       "      <td>0.916700</td>\n",
       "      <td>0.000000</td>\n",
       "      <td>0.000000</td>\n",
       "      <td>0.000000</td>\n",
       "      <td>16.000000</td>\n",
       "      <td>0.0</td>\n",
       "    </tr>\n",
       "    <tr>\n",
       "      <th>25%</th>\n",
       "      <td>1.0</td>\n",
       "      <td>0.000000</td>\n",
       "      <td>NaN</td>\n",
       "      <td>0.000000</td>\n",
       "      <td>0.000000</td>\n",
       "      <td>30.000000</td>\n",
       "      <td>NaN</td>\n",
       "      <td>0.0</td>\n",
       "    </tr>\n",
       "    <tr>\n",
       "      <th>50%</th>\n",
       "      <td>1.0</td>\n",
       "      <td>1.000000</td>\n",
       "      <td>NaN</td>\n",
       "      <td>0.000000</td>\n",
       "      <td>0.000000</td>\n",
       "      <td>55.000000</td>\n",
       "      <td>NaN</td>\n",
       "      <td>0.0</td>\n",
       "    </tr>\n",
       "    <tr>\n",
       "      <th>75%</th>\n",
       "      <td>1.0</td>\n",
       "      <td>1.000000</td>\n",
       "      <td>NaN</td>\n",
       "      <td>1.000000</td>\n",
       "      <td>0.000000</td>\n",
       "      <td>82.170800</td>\n",
       "      <td>NaN</td>\n",
       "      <td>0.0</td>\n",
       "    </tr>\n",
       "    <tr>\n",
       "      <th>max</th>\n",
       "      <td>1.0</td>\n",
       "      <td>1.000000</td>\n",
       "      <td>80.000000</td>\n",
       "      <td>2.000000</td>\n",
       "      <td>2.000000</td>\n",
       "      <td>227.525000</td>\n",
       "      <td>307.000000</td>\n",
       "      <td>0.0</td>\n",
       "    </tr>\n",
       "  </tbody>\n",
       "</table>\n",
       "</div>"
      ],
      "text/plain": [
       "       pclass    survived         age       sibsp       parch        fare  \\\n",
       "count   281.0  281.000000  242.000000  281.000000  281.000000  281.000000   \n",
       "mean      1.0    0.594306   39.532714    0.384342    0.209964   66.034268   \n",
       "std       0.0    0.491902   14.352001    0.522669    0.495018   45.795996   \n",
       "min       1.0    0.000000    0.916700    0.000000    0.000000    0.000000   \n",
       "25%       1.0    0.000000         NaN    0.000000    0.000000   30.000000   \n",
       "50%       1.0    1.000000         NaN    0.000000    0.000000   55.000000   \n",
       "75%       1.0    1.000000         NaN    1.000000    0.000000   82.170800   \n",
       "max       1.0    1.000000   80.000000    2.000000    2.000000  227.525000   \n",
       "\n",
       "             body  cluster_group  \n",
       "count   32.000000          281.0  \n",
       "mean   169.000000            0.0  \n",
       "std     83.083712            0.0  \n",
       "min     16.000000            0.0  \n",
       "25%           NaN            0.0  \n",
       "50%           NaN            0.0  \n",
       "75%           NaN            0.0  \n",
       "max    307.000000            0.0  "
      ]
     },
     "execution_count": 20,
     "metadata": {},
     "output_type": "execute_result"
    }
   ],
   "source": [
    "cluster_0 = (original_df[ (original_df['cluster_group']==0) ])\n",
    "cluster_0_fc = (cluster_0[ (cluster_0['pclass']==1) ])\n",
    "cluster_0_fc.describe()"
   ]
  }
 ],
 "metadata": {
  "anaconda-cloud": {},
  "kernelspec": {
   "display_name": "Python [Root]",
   "language": "python",
   "name": "Python [Root]"
  },
  "language_info": {
   "codemirror_mode": {
    "name": "ipython",
    "version": 3
   },
   "file_extension": ".py",
   "mimetype": "text/x-python",
   "name": "python",
   "nbconvert_exporter": "python",
   "pygments_lexer": "ipython3",
   "version": "3.5.2"
  }
 },
 "nbformat": 4,
 "nbformat_minor": 1
}

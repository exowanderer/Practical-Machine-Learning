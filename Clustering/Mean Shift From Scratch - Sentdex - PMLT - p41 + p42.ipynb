{
 "cells": [
  {
   "cell_type": "code",
   "execution_count": 1,
   "metadata": {
    "collapsed": false
   },
   "outputs": [],
   "source": [
    "%matplotlib inline\n",
    "import matplotlib.pyplot as plt\n",
    "from matplotlib import style\n",
    "import numpy as np\n",
    "\n",
    "import random\n",
    "\n",
    "from sklearn.datasets.samples_generator import make_blobs\n",
    "\n",
    "style.use('fivethirtyeight')"
   ]
  },
  {
   "cell_type": "raw",
   "metadata": {},
   "source": [
    "# X = np.array([[1, 2],\n",
    "#               [1.5, 1.8],\n",
    "#               [5, 8 ],\n",
    "#               [8, 8],\n",
    "#               [1, 0.6],\n",
    "#               [9,11],\n",
    "#               [8,2],\n",
    "#               [10,2],\n",
    "#               [9,3],])\n",
    "\n",
    "X, y = make_blobs(n_samples=20, centers=3, n_features=2)\n",
    "\n",
    "plt.scatter(X[:,0], X[:,1], s=150)\n",
    "plt.show()\n",
    "\n",
    "colors = 10*[\"g\",\"r\",\"c\",\"b\",\"k\"]"
   ]
  },
  {
   "cell_type": "code",
   "execution_count": 13,
   "metadata": {
    "collapsed": false
   },
   "outputs": [
    {
     "data": {
      "image/png": "[encoded data removed]",
      "text/plain": [
       "<matplotlib.figure.Figure at 0x10e9904d0>"
      ]
     },
     "metadata": {},
     "output_type": "display_data"
    }
   ],
   "source": [
    "nsamples= 50\n",
    "ncenters= random.randrange(2,8)\n",
    "centers = [[1,1,1], [5,5,5], [3,10,10]]\n",
    "\n",
    "X, _    = make_blobs(n_samples=nsamples, centers=ncenters, cluster_std=1)\n",
    "plt.scatter(X[:,0], X[:,1], s=150)\n",
    "\n",
    "colors = 10*[\"g\",\"r\",\"c\",\"b\",\"k\"]"
   ]
  },
  {
   "cell_type": "code",
   "execution_count": 14,
   "metadata": {
    "collapsed": false
   },
   "outputs": [
    {
     "data": {
      "image/png": "[encoded data removed]",
      "text/plain": [
       "<matplotlib.figure.Figure at 0x10eb41c50>"
      ]
     },
     "metadata": {},
     "output_type": "display_data"
    }
   ],
   "source": [
    "class MeanShift(object):\n",
    "    def __init__(self, radius=4):\n",
    "        self.radius = radius\n",
    "    \n",
    "    def fit(self, data):\n",
    "        \n",
    "        centroids = {}\n",
    "        \n",
    "        for i in range(len(data)):\n",
    "            centroids[i] = data[i]\n",
    "        \n",
    "        while True:\n",
    "            new_centroids = []\n",
    "            for i in centroids:\n",
    "                in_bandwidth = []\n",
    "                centroid = centroids[i]\n",
    "                for featureset in data:\n",
    "                    if np.linalg.norm(featureset - centroid) < self.radius:\n",
    "                        in_bandwidth.append(featureset)\n",
    "                \n",
    "                new_centroid = np.average(in_bandwidth, axis=0)\n",
    "                \n",
    "                new_centroids.append(tuple(new_centroid))\n",
    "                \n",
    "            uniques = sorted(list(set(new_centroids)))\n",
    "            \n",
    "            prev_centroids = dict(centroids)\n",
    "            \n",
    "            centroids = {}\n",
    "            for i in range(len(uniques)):\n",
    "                centroids[i] = np.array(uniques[i])\n",
    "            \n",
    "            optimized = True\n",
    "            \n",
    "            for i in centroids:\n",
    "                if not np.array_equal(centroids[i],prev_centroids[i]):\n",
    "                    optimized = False\n",
    "                \n",
    "                if not optimized:\n",
    "                    break\n",
    "            \n",
    "            if optimized:\n",
    "                break\n",
    "        \n",
    "        self.centroids = centroids\n",
    "        \n",
    "        def predict(self):\n",
    "            pass\n",
    "        \n",
    "clf = MeanShift(radius=2)\n",
    "clf.fit(X)\n",
    "\n",
    "centroids = clf.centroids\n",
    "\n",
    "plt.scatter(X[:,0], X[:,1], s=150, lw=0, alpha=0.5)\n",
    "\n",
    "for c in centroids:\n",
    "    plt.scatter(centroids[c][0], centroids[c][1], color='k', marker='*', s=150)\n"
   ]
  },
  {
   "cell_type": "markdown",
   "metadata": {},
   "source": [
    "Part 2: (p42) Automating the Radius and Weighting the Distances\n",
    "===\n",
    "---\n",
    "But we need to manually set radius to a `reasonable value`, which is not 'unsupervised learning'. For the above example, we're able to look at the data and say \"yeah, radius=4 looks good\", but that's never going to be possible for higher dimensional data sets.\n",
    "\n",
    "In p42 (that which follows), we will learn how to automate the selection of the radius\n",
    "- We will set the radius to be large, but have a penalty weight for samples that are far from the current center locations.\n",
    "- this way, we will check many more samples in the feature-set, but under weight samples that are far from our current centroids."
   ]
  },
  {
   "cell_type": "code",
   "execution_count": 23,
   "metadata": {
    "collapsed": false
   },
   "outputs": [],
   "source": [
    "class MeanShift(object):\n",
    "    def __init__(self, radius=None, radius_norm_step=100):\n",
    "        self.radius           = radius\n",
    "        self.radius_norm_step = radius_norm_step\n",
    "    \n",
    "    def fit(self, data):\n",
    "        \n",
    "        if self.radius == None:\n",
    "            # This section chooses a realistic `radius` that corresponds to the data-norm\n",
    "            all_data_centroid = np.average(data,axis=0)\n",
    "            all_data_norm     = np.linalg.norm(all_data_centroid)\n",
    "            self.radius       = all_data_norm / self.radius_norm_step\n",
    "        \n",
    "        # This will weight it so that the first element in the centroids is weighted the most\n",
    "        #   and the last element in the centroids is weighted the least\n",
    "        weights = [int(i) for i in range(self.radius_norm_step)][::-1]\n",
    "        \n",
    "        centroids = {}\n",
    "        \n",
    "        for i in range(len(data)):\n",
    "            centroids[i] = data[i]\n",
    "        \n",
    "        while True:\n",
    "            new_centroids = []\n",
    "            for i in centroids:\n",
    "                in_bandwidth = []\n",
    "                centroid = centroids[i]\n",
    "                \n",
    "                for featureset in data:\n",
    "                    distance = np.linalg.norm(featureset - centroid)\n",
    "                    if distance == 0:\n",
    "                        distance = 1e-9\n",
    "                    \n",
    "                    # number of radii away w.r.t. distance\n",
    "                    weight_index = int(distance / self.radius)\n",
    "                    \n",
    "                    # check if weight_index is out of range\n",
    "                    if weight_index > self.radius_norm_step-1:\n",
    "                        weight_index = self.radius_norm_step-1\n",
    "                    \n",
    "                    # adds a lot of copies of featureset\n",
    "                    to_add = (weights[weight_index]*weights[weight_index])*[featureset]\n",
    "                    \n",
    "                    in_bandwidth += to_add\n",
    "                    \n",
    "                    \n",
    "                new_centroid = np.average(in_bandwidth, axis=0)\n",
    "                \n",
    "                new_centroids.append(tuple(new_centroid))\n",
    "                \n",
    "            uniques = sorted(list(set(new_centroids)))\n",
    "            \n",
    "            to_pop = []\n",
    "            for i in uniques:\n",
    "                for ii in uniques:\n",
    "                    if i == ii:\n",
    "                        pass\n",
    "                    elif np.linalg.norm(np.array(i) - np.array(ii)) <= self.radius:\n",
    "                        to_pop.append(ii)\n",
    "                        break\n",
    "                if i in to_pop:\n",
    "                    break\n",
    "            \n",
    "            for k in to_pop:\n",
    "                try:\n",
    "                    uniques.remove(k)\n",
    "                except:\n",
    "                    print('Found Duplicate Unique')\n",
    "            \n",
    "            prev_centroids = dict(centroids)\n",
    "            \n",
    "            centroids = {}\n",
    "            for i in range(len(uniques)):\n",
    "                centroids[i] = np.array(uniques[i])\n",
    "            \n",
    "            optimized = True\n",
    "            \n",
    "            for i in centroids:\n",
    "                if not np.array_equal(centroids[i],prev_centroids[i]):\n",
    "                    optimized = False\n",
    "                \n",
    "                if not optimized:\n",
    "                    break\n",
    "            \n",
    "            if optimized:\n",
    "                break\n",
    "        \n",
    "        self.centroids = centroids\n",
    "        \n",
    "        self.classifications = {}\n",
    "        for i in range(len(self.centroids)):\n",
    "            self.classifications[i] = []\n",
    "        \n",
    "        for featureset in data:\n",
    "            distances       = [np.linalg.norm(featureset - self.centroids[centroid]) for centroid in self.centroids]\n",
    "            classification  = distances.index(min(distances))\n",
    "            \n",
    "            self.classifications[classification].append(featureset)\n",
    "        \n",
    "        def predict(self, data):\n",
    "            distances       = [np.linalg.norm(featureset - self.centroids[centroid]) for centroid in self.centroids]\n",
    "            classification  = distances.index(min(distances))\n",
    "            return classification\n",
    "            # self.classifications[classification].append(featureset)"
   ]
  },
  {
   "cell_type": "code",
   "execution_count": 26,
   "metadata": {
    "collapsed": false
   },
   "outputs": [
    {
     "name": "stdout",
     "output_type": "stream",
     "text": [
      "1 loop, best of 3: 6.84 s per loop\n"
     ]
    }
   ],
   "source": [
    "clf = MeanShift()\n",
    "%timeit clf.fit(X)"
   ]
  },
  {
   "cell_type": "code",
   "execution_count": 21,
   "metadata": {
    "collapsed": false
   },
   "outputs": [
    {
     "data": {
      "image/png": "[encoded data removed]",
      "text/plain": [
       "<matplotlib.figure.Figure at 0x10f06b510>"
      ]
     },
     "metadata": {},
     "output_type": "display_data"
    }
   ],
   "source": [
    "centroids = clf.centroids\n",
    "# print(len(centroids))\n",
    "\n",
    "plt.scatter(X[:,0], X[:,1], s=150, lw=0, alpha=0.5)\n",
    "\n",
    "for c in centroids:\n",
    "    plt.scatter(centroids[c][0], centroids[c][1], color='k', marker='*', s=150)"
   ]
  },
  {
   "cell_type": "code",
   "execution_count": 22,
   "metadata": {
    "collapsed": false
   },
   "outputs": [
    {
     "data": {
      "image/png": "[encoded data removed]",
      "text/plain": [
       "<matplotlib.figure.Figure at 0x10f0b4ad0>"
      ]
     },
     "metadata": {},
     "output_type": "display_data"
    }
   ],
   "source": [
    "centroids = clf.centroids\n",
    "\n",
    "for classification in clf.classifications:\n",
    "    color=colors[classification]\n",
    "    for featureset in clf.classifications[classification]:\n",
    "        plt.scatter(featureset[0], featureset[1], marker='o', color=color,s=150)\n",
    "\n",
    "for c in centroids:\n",
    "    plt.scatter(centroids[c][0], centroids[c][1], color='k', marker='*', s=150)"
   ]
  },
  {
   "cell_type": "code",
   "execution_count": null,
   "metadata": {
    "collapsed": true
   },
   "outputs": [],
   "source": []
  }
 ],
 "metadata": {
  "anaconda-cloud": {},
  "kernelspec": {
   "display_name": "Python 2",
   "language": "python",
   "name": "python2"
  },
  "language_info": {
   "codemirror_mode": {
    "name": "ipython",
    "version": 2
   },
   "file_extension": ".py",
   "mimetype": "text/x-python",
   "name": "python",
   "nbconvert_exporter": "python",
   "pygments_lexer": "ipython2",
   "version": "2.7.11"
  }
 },
 "nbformat": 4,
 "nbformat_minor": 1
}
